{
 "cells": [
  {
   "cell_type": "markdown",
   "metadata": {},
   "source": [
    "# Polarized Cornell Box and polarization viz tools (steady state)\n",
    "\n",
    "## Overview\n",
    "In this tutorial, you will modify the scene from `0-render_cbox_diffuse.ipynb` to include elements that change polarization of light, and change the `mitransient`/Mitsuba variant so that all the code simulates polarization.\n",
    "\n",
    "<div class=\"admonition important alert alert-block alert-warning\">\n",
    "\n",
    "This tutorial assumes that you've read `0-render_cbox_diffuse.ipynb`. Most of the setup code is the same. Here you get to see the polarization of light for that case!\n",
    "\n",
    "</div>\n",
    "\n",
    "<div class=\"admonition important alert alert-block alert-success\">\n",
    "\n",
    "🚀 **You will learn how to:**\n",
    "\n",
    "<ul>\n",
    "  <li>\n",
    "  \n",
    "  Use a polarized Mitsuba variant in `mitransient`</li>\n",
    "  <li>\n",
    "  \n",
    "  Modify the scene to include polarizing elements, and to simulate time-resolved polarization</li>\n",
    "  <li>\n",
    "  \n",
    "  Visualize the resulting Stokes vectors</li>\n",
    "</ul>\n",
    "\n",
    "</div>\n",
    "\n",
    "<div class=\"admonition important alert alert-block alert-warning\">\n",
    "\n",
    "The two tutorials `render_cbox_polarized_and_visualization` and `render_cbox_polarized_and_visualization_steady` are very similar. The first one uses the transient result to generate plots, and the second one uses the steady state image. Look \n",
    "\n",
    "</div>"
   ]
  },
  {
   "cell_type": "code",
   "execution_count": 1,
   "metadata": {
    "jupyter": {
     "is_executing": true
    }
   },
   "outputs": [],
   "source": [
    "# If you have compiled Mitsuba 3 yourself, you will need to specify the path\n",
    "# to the compilation folder\n",
    "# import sys\n",
    "# sys.path.insert(0, '<mitsuba-path>/mitsuba3/build/python')\n",
    "import mitsuba as mi\n",
    "# To set a variant, you need to have set it in the mitsuba.conf file\n",
    "# https://mitsuba.readthedocs.io/en/latest/src/key_topics/variants.html\n",
    "mi.set_variant('llvm_ad_mono_polarized')\n",
    "\n",
    "import mitransient as mitr\n",
    "\n",
    "import drjit as dr\n",
    "import numpy as np\n",
    "import matplotlib.pyplot as plt\n",
    "# dr.set_flag(dr.JitFlag.SymbolicScope, False)\n",
    "# dr.set_flag(dr.JitFlag.SymbolicCalls, False)\n",
    "# dr.set_flag(dr.JitFlag.SymbolicLoops, False)\n",
    "# dr.set_flag(dr.JitFlag.SymbolicConditionals, False)"
   ]
  },
  {
   "cell_type": "markdown",
   "metadata": {},
   "source": [
    "We use the short alias `mitr` for `mitransient` for improved code readibility."
   ]
  },
  {
   "cell_type": "markdown",
   "metadata": {},
   "source": [
    "### Setup the Cornell Box scene\n",
    "\n",
    "The scene only changes two things:\n",
    "\n",
    "1. It adds a \"gold\" material, which changes polarization when light scatters on it:\n",
    "\n",
    "```diff\n",
    "+<bsdf type=\"roughconductor\" id=\"gold\">\n",
    "+  <string name=\"material\" value=\"Au\"/>\n",
    "+  <string name=\"distribution\" value=\"ggx\"/>\n",
    "+  <float name=\"alpha_u\" value=\"0.3\"/>\n",
    "+  <float name=\"alpha_v\" value=\"0.3\"/>\n",
    "+</bsdf>\n",
    "```\n",
    "\n",
    "2. It sets both the big and small boxes of the Cornell Box to that gold material.\n",
    "\n",
    "```diff\n",
    "<shape type=\"obj\" id=\"smallbox\">\n",
    "  <string name=\"filename\" value=\"meshes/cbox_smallbox.obj\"/>\n",
    "- <ref id=\"gray\"/>\n",
    "+ <ref id=\"gold\"/>\n",
    "</shape>\n",
    "```\n",
    "\n",
    "You don't need to do anything else! Just using a `polarized` variant will automatically handle all the necessary Stokes vector tracking."
   ]
  },
  {
   "cell_type": "code",
   "execution_count": 2,
   "metadata": {},
   "outputs": [
    {
     "name": "stdout",
     "output_type": "stream",
     "text": [
      "\u001b[31m2025-09-10 12:42:14 WARN  [HDRFilm] Monochrome mode enabled, setting film output pixel format to 'luminance' (was rgb).\n",
      "\u001b[0m"
     ]
    }
   ],
   "source": [
    "# Load XML file\n",
    "# You can also use mi.load_dict and pass a Python dict object\n",
    "# but it is probably much easier for your work to use XML files\n",
    "import os\n",
    "scene = mi.load_file(os.path.abspath('cornell-box/cbox_polarized_steady.xml'))"
   ]
  },
  {
   "cell_type": "markdown",
   "metadata": {},
   "source": [
    "<div class=\"admonition important alert alert-block alert-warning\">\n",
    "Note that this scene uses a conventional (non-transient) integrator, so we only have `data_steady` as a result\n",
    "</div>"
   ]
  },
  {
   "cell_type": "code",
   "execution_count": 3,
   "metadata": {},
   "outputs": [],
   "source": [
    "data_steady = mi.render(scene, spp=4096)"
   ]
  },
  {
   "cell_type": "code",
   "execution_count": 4,
   "metadata": {},
   "outputs": [
    {
     "name": "stdout",
     "output_type": "stream",
     "text": [
      "(256, 256, 13)\n"
     ]
    }
   ],
   "source": [
    "data_steady_np = np.array(data_steady)\n",
    "print(data_steady_np.shape)"
   ]
  },
  {
   "cell_type": "markdown",
   "metadata": {},
   "source": [
    "`data_steady` has dimensions (width, height, channels) where channels represents the $(S_0, S_1, S_2, S_3)$ Stokes' vector components."
   ]
  },
  {
   "cell_type": "code",
   "execution_count": 5,
   "metadata": {},
   "outputs": [],
   "source": [
    "data_transient_np = data_steady_np[:,:,np.newaxis,[0,4,7,10]]"
   ]
  },
  {
   "cell_type": "markdown",
   "metadata": {},
   "source": [
    "## Transient-polarization visualization\n",
    "\n",
    "S1 and S2 share colorbar.\n",
    "\n",
    "The other plots are those proposed by Wilkie and Weidlich [2013], commonly used in polarization research (see Baek et al. [2020] teaser)\n",
    "\n",
    "[Wilkie2013] Alexander Wilkie and Andrea Weidlich. 2010. A standardised polarisation visualisation for images. In Proceedings of the 26th Spring Conference on Computer Graphics (SCCG '10). Association for Computing Machinery, New York, NY, USA, 43–50. https://doi.org/10.1145/1925059.1925070\n",
    "\n",
    "[Baek2020] Seung-Hwan Baek, Tizian Zeltner, Hyun Jin Ku, Inseung Hwang, Xin Tong, Wenzel Jakob, and Min H. Kim. 2020. Image-based acquisition and modeling of polarimetric reflectance. ACM Trans. Graph. 39, 4, Article 139 (August 2020), 14 pages. https://doi.org/10.1145/3386569.3392387\n",
    "\n",
    "(Plots may take one minute to load)\n"
   ]
  },
  {
   "cell_type": "code",
   "execution_count": 6,
   "metadata": {},
   "outputs": [],
   "source": [
    "dop = mitr.vis.degree_of_polarization(data_transient_np)\n",
    "dop, aolp, aolp_scaled, top, chirality = mitr.vis.polarization_generate_false_color(data_transient_np)"
   ]
  },
  {
   "cell_type": "code",
   "execution_count": 7,
   "metadata": {},
   "outputs": [
    {
     "data": {
      "text/html": [
       "<video width=\"1000\" height=\"600\" controls autoplay>\n",
       "  <source type=\"video/mp4\" src=\"data:video/mp4;base64,AAAAIGZ0eXBNNFYgAAACAE00ViBpc29taXNvMmF2YzEAAAAIZnJlZQAAJpNtZGF0AAACrwYF//+r\n",
       "3EXpvebZSLeWLNgg2SPu73gyNjQgLSBjb3JlIDE2NCByMzEwOCAzMWUxOWY5IC0gSC4yNjQvTVBF\n",
       "Ry00IEFWQyBjb2RlYyAtIENvcHlsZWZ0IDIwMDMtMjAyMyAtIGh0dHA6Ly93d3cudmlkZW9sYW4u\n",
       "b3JnL3gyNjQuaHRtbCAtIG9wdGlvbnM6IGNhYmFjPTEgcmVmPTMgZGVibG9jaz0xOjA6MCBhbmFs\n",
       "eXNlPTB4MzoweDExMyBtZT1oZXggc3VibWU9NyBwc3k9MSBwc3lfcmQ9MS4wMDowLjAwIG1peGVk\n",
       "X3JlZj0xIG1lX3JhbmdlPTE2IGNocm9tYV9tZT0xIHRyZWxsaXM9MSA4eDhkY3Q9MSBjcW09MCBk\n",
       "ZWFkem9uZT0yMSwxMSBmYXN0X3Bza2lwPTEgY2hyb21hX3FwX29mZnNldD0tMiB0aHJlYWRzPTEy\n",
       "IGxvb2thaGVhZF90aHJlYWRzPTIgc2xpY2VkX3RocmVhZHM9MCBucj0wIGRlY2ltYXRlPTEgaW50\n",
       "ZXJsYWNlZD0wIGJsdXJheV9jb21wYXQ9MCBjb25zdHJhaW5lZF9pbnRyYT0wIGJmcmFtZXM9MyBi\n",
       "X3B5cmFtaWQ9MiBiX2FkYXB0PTEgYl9iaWFzPTAgZGlyZWN0PTEgd2VpZ2h0Yj0xIG9wZW5fZ29w\n",
       "PTAgd2VpZ2h0cD0yIGtleWludD0yNTAga2V5aW50X21pbj0yNCBzY2VuZWN1dD00MCBpbnRyYV9y\n",
       "ZWZyZXNoPTAgcmNfbG9va2FoZWFkPTQwIHJjPWNyZiBtYnRyZWU9MSBjcmY9MjMuMCBxY29tcD0w\n",
       "LjYwIHFwbWluPTAgcXBtYXg9NjkgcXBzdGVwPTQgaXBfcmF0aW89MS40MCBhcT0xOjEuMDAAgAAA\n",
       "I9RliIQAK//+9nN8CmtHM5UuBXb3ZqPl0JLl+xBg+tAAAAMAAAMAAAMAACLmA1YwWyx5ZpAAAAMA\n",
       "AQUAD2ACIABdxEyzBlZgAEONJkvlUHXDVme6Rw50ew7mku0FLQL2qJza7vPgJfMY2r6jKN91aMLd\n",
       "kAb/EOMbalnYkE9GcqxSOPCR+pf8qEOt/0rVNeue+GGIKh/tT/by5Iqib1hrCzN0WVK53k0GrEDV\n",
       "UCjfGApD82zp8h5EtYU5SgQtPO54vlI4fe8m3JzTyZgt87+vQec9yypA3drv0gGnOyQOiLG6/Gfk\n",
       "oVFzl3aC52pitTdmOX2c40yKg+PO9XpURrjgGsZE/C48uTI0uZ2B0Ho9vMrl7Bw4Z6ogH/7uuMuc\n",
       "WQX00/Xy72m2/dRkE3ah/skkYNBnsi4fBllen0oPXEMChgGgiPwckZpfOT7sHoQj/uRLJ4zFNYwo\n",
       "/eTUJQ05Mkf5T/rIhyTLAIoCTIDfpquxV0wqdSfdt2n7j1wXBR6d06RHRwpESQbZxQIPl3JH11l3\n",
       "VarSSjH/kOl9FI96+ofs9EU39LUlFxwmQNmig5emPqb8Bh08g80XKwpUgUC+SHiajfWJ563l9xM3\n",
       "4nRCQM+vG68H+xe1ZVmXe9vqGZfNbxZey/5oh5vGDLfzZPeFTIXA3l5DDw8LPCGG8VvYHTysDZfr\n",
       "X4bv1Nf7GAafywEEBFQlTP127HW+1XcQEQDJBgTvR9QQnlNFsWlG13rPbITc3CuAyAKPnEW22vcc\n",
       "Yc1oi0jTTofvjorbGou7HfkM6a1gADu75xtbq8+lb03ZS2KupSVP30jYQy+9xmfKUVER9uMQ0VXs\n",
       "RCR7z4ba6Xd6qs0lYxfZe1C5aFabuCBYNpNPqqr4i4HZ6piY4befoKFH2D19bIX00NSckpYo4OYy\n",
       "nbsxCv7pF7WBNkgAZZ4dxBqb/T+ec2fqsqRczFmPFAPu/2f8eFvteky/IAfdOwcOlhy+x4Opd5WC\n",
       "ZbVzbbPcND2Z8AABQPVPlnX40XiZtAM9/p7wEuN0ANxuMtErfJo1DmgXWi9AC2Mv8/illHyeabl/\n",
       "vrmpVi3Y5rqTAHtx3/q6wC3355ZsZ1AdfnQ1k9SMimaFB6d2uZPlKXOpmF15zGllQGVeECRUI/mj\n",
       "hKVees2AVV9gLSeOHdIy8ZBV4tYzvsPQ2/ZZ+b6KkwxPzfVsz+hAAQ8Rj8etyBx3WrEcWKkU5dyY\n",
       "9PTp4XUTuIx+bBSQ0Kidt+VJl7LUk7Kf2snJaZZmAZsFVqnR9q4SA/PEPEsy8DQD3nqN4n5Bfa8v\n",
       "GuHhwP16hGTvL0NSu7sQDoVGKE15VXcOj6KTCmADDn8AUwWQuXZzX9jx4fv2l9WUaP68o836pQXT\n",
       "mDUh+HJY2SY0lCwfwBk6GQcZomnsqfaGFtp5pojMXUxreeRkRoDFkHAU9GjZd5ESNW+Cs+Jtg6d3\n",
       "0HCJhMWr2Mc1xFbCYizLPHHBJM0yV8/E1VUxuJKxegPh6+kvJrwjp9bIXij+N7LKhU8L96nmaPb8\n",
       "9W0nw+J3l7gil4z1gI7GD7wrxvY1BOoyAABMoMO/HRR2dKJ46qzb6CsFEEPMCOYdLgTk44JprkAI\n",
       "aPkTMCXxh/mtkSWlU2p2gCkSB90+w60IWHtWjXYgFiEo+HKXen0D9NyOKU5WjossvdN2o25TI83w\n",
       "AW0yTUTTfv9BvO2PdT824kt4jT3z0a28xJXjm+a4LynUD/iQGZ1Wnlqf4GrgfAwBy/CC+cq/TcIt\n",
       "jRpo9bAWLybwBb3p/HCGiygKvkI0aRJaSgP6HVUCDSvT9D5TN/3badJDQKy/OBdAktIVQCnZF2Al\n",
       "Cq40mjjkvRXJpTDtB+8Bd11miPyO/Bn1qT7TAPFEeV1EI7K/ZZwU0Wa9cYnLUwTKFjbmILB0TKV/\n",
       "64WoQecEjiKiwgVb7UHqWUwMDA9t434IqCzboDN79h1IJjITDap6ALus8Nw15/0+d7+VFbWoKwjF\n",
       "Wrd99Pfj/SG8THBSWqyA5LodIiih0q5pQ+tkei3UBXypU2yx5KUgJnrhkQTxJGB8OUxytJsbIEJb\n",
       "pWpNt4OPSuizR6wXOe3qbwAmxIgtBqzagypdlt5kOQM/BU47KIwjI6FwXNe+8mpVoV1tTb+mVswM\n",
       "emvsZxg6Yy5RzsCCKqj+GGr5evPEkiKhnP5ynkYb/0g4ghBSnva5ZUKSp8m/hlPTTOBzNUJACAve\n",
       "a1L0tspvPUCJ4Y9xGqmTul0LaBpucI0a2Fu+/CmKyU7HbS17EK4XGk6rbu6e5nXVnrl+V+Z6hzrM\n",
       "IKr/VO5HKAgEbEYQg+0ClwHwucZemzJ9T5eLYGhmm4W3eguYifxeTL7a+7ifpZhJZih++8jTbGkt\n",
       "anszAiMQocgSONVp1uu83dNEqldO9qJc6+szQQkOLuFk1sLQIvNwsIS3M7hsY5U417yvF1HI6XNH\n",
       "i8seHVEMSJ8tftN94wUEE3tcnbi1095t7WuHBw2sOMles8KsgSeyXH1+ha9ly/MEQBxNEKfFU2EY\n",
       "SvErsDu+5io+T5Ws12Sy/yYz1UQ//cszECgL1B32LIu+KGYL0+QA559+elXj8NQHe/ASB5MZusNI\n",
       "rcHy9yTqwqzjo/x7WsjK3DMMnwxB0+dEtjjR9LKNHnzNZ94oqmBjiGI4XcROk+ZCWHiqPihuKm4K\n",
       "g5qjNEQ/OLFSxj6RFHWaMRiIAluW2gQ49heszkHrDcUy9tDitEOK90E8RiLg1oMMycAmN1X09jBW\n",
       "YqQ1AVoHmsu7TRuyFC/WruPOYFyEYovjSkYGz5VvxeSl5LuQv+oSvdUQEn7SXDu7Bd7YdQD+hE98\n",
       "2mMROnHgFG1dZWwbHFIATLAJ//c9D1gf+nQtVV8AQALkB7TjBabbH8MCk9119iYwEyVwPAGTKSwc\n",
       "veSvbdRhcFfevNXhwxrD7FUzr8L7XoXNLmBJO6ldcrUfWJI/ZO9mdouNI9ldRXfttTTgopoQmQ40\n",
       "q14dMf3zJ/yUoH9deqO/jcMg3r/60W9eu1609dqrb3lc4BAYieCEr37x3w/XZrqXQ/Pk+4n4jSO7\n",
       "taa6zuavFQIrcy8t8J/7tKSxp3r7XR376YK3Qcy52QVjb+fb+XHoufnT1bfIEgcXwDTIh2oZ0ZgO\n",
       "LyxWUoCktkHLIGgNCHbqNGez3joSdlDZ5z+TJ6ggUlZRamVZXDhCRGTaW4tJZxnb9L9TG4FdiqKE\n",
       "+0t+Wf/4LFvofnCZQoBI27+XrBXYaHIAYinnJo/ktWyL50QztRvsrRjrpcsqKTUPEyIJtZK5xmx2\n",
       "b4iifq0xePAhRxPFs5bmr7+TaGfZeNM0j44nWrvv0yyYn7ZbExZl9d8AvMLHFVSFolQkIzVc87kP\n",
       "VtolXxKH+SpsJQLwGyhU5NhSF0rjK9t2aP3osmZ8014HHoGQnhNd0ruqpCt/+vliM8eGW1P9HvHT\n",
       "T0NI14PUBqLYYTYMMCMrIe1L2UXj+hXYV5nkwuYQXWCbzM80HQ5f/dGle+CT5sWbE15HtBSjURNy\n",
       "Qy8DOnslDSrWVpDjKrjy0nHKDYtv79Mq9tsZSJLZ6ufjAbUHDzI9apa9WyQ+epNMYsNSkamgAs6t\n",
       "dGjpydUjP3ZDeu4zuw2F0YZtcMxEsKD/oOP+B/tx1ORBEbz6Ka2JjcXUT+TAQND/FfhfUvl5sl9X\n",
       "K1pI5OTZGuztuUDg1o0MSLmjwGo3eqCep0eHJdnbZgxUpa4o4QfYFtfOIxhAOaiyE1q/TBpOQrOh\n",
       "RjM/X6yZcBNaqsaLOjfNC4dR8KP4awBBB+s3aX9/4LiRkL5YdqI2cIraURa874DoG7sMCZ1NiQar\n",
       "DOsTADPFztzAi958rSiYRyBBNJ6ZqAoM/bkILHg0xAyuGuYVqp5Yz6Dd6Nz1Hyryjv20SWSTSTqX\n",
       "Pp72JGDmM3KLdpdzlUQf/c13OxtKOm7aeCKGOm8QoWHCxFz6Qf7evsIqNkgsYEGB6NKxQtbzFmrt\n",
       "NwKnIZJ4mIy/mOckRiKrq8U0SS+5/z20uQXcS+cLR3r2HV3yQzvRJQKoVEiQAJuCdb78OJASf/BA\n",
       "gIeQeMPkUUVKOT4tOivN/QA9KMDKrDhfRHOxEBDUi0SOISQ8cWDMGZCNA/8yJtlclvPGd2ciH+N9\n",
       "0SoS6g0C7Lvzuz16ddXbldEIQipiHM0BGoBRKXxfsm6D5srDhx/xM6s+hFmaNFYRqEB6N4th0Ly2\n",
       "pGnUon96ZisXlS8mlHheATepkFjYuMHyazg4PoFy7+LY0HbUFwlPLtCPFHSrUU/eeioRfiqQAc9P\n",
       "7xUYarOXZnR1nGlAe2AEadLOvsjMW1loJOFQQu/wwLrEkF/bTn+odqUjjv4VYBR+8H/AwwzwpAfx\n",
       "j/iq1VBjHuV24mpTQuseU3QM2IC225YnZNbg3rQCMg9s97kAJPGfxHWot4fp/s5oWDA7YELY+tw3\n",
       "a9FWz67rterAN5ula7itHMCqPn6r+AAu4JatN1BCmJ/nd3fTN7untF0sXREgkz3FycTDbDPx8WJL\n",
       "hVic2Objwz2rBvdUSY/cEjuBPF/3HZLChEHRUL/WfKT6mU9gbuFZY62LSIJQ44zefGSfcAYbE/12\n",
       "6sPbpKuLO9kLpk2qR+FQBceU273f/Ye/9s15ne7dVwO725s5j8z8+Vix7fnCowgJ4fVSfMSltQUU\n",
       "zq/aMeDjHtVASVXve1FuEZGVf+K+O5K6VoF/yWg1xgH5v73IukoFmhLAlN+v9yQcFLCI86tAzhrp\n",
       "pSqj9bQT0gYb0xX6EfumdCFEKINmbgcHSQj0E9MG8VH83uw3NAMgP1XntFhqXazYBMCfgbVPyD17\n",
       "tYgkTfd1sO5zsDk4Q7n4iCTDeuoS/gf7MgPwV2Rc4VrqXFz8ixvWj8Lan0WI0ET1F43Zmh0a/Fmv\n",
       "0fVPM1xF0M26JqWk2/mhotOzEpAAi2BYW+djySyYPHsu/UN0U+bS86vbGU0jC9jskbVHHtuMKBwH\n",
       "wcH/NPzrgn5L85J/RkuV6PUArLCvU6cJQZFd0ePt1Oyqq+A1iF3yo4GKYcgXefEyhd6qc2kH40k6\n",
       "vaBmdY7+lA7HtbPKz20fhRU3LLRfYYUqEN3r6oLO1QERrN0BmIXvEv2wCe/IGfAdAQYZOD7uNTgX\n",
       "FeqJaAhMk9894NQjjEw3Sf8l7EDRldEYLW+pGyH42fXkzuZQqoZ8LFe0qQH4fxX61+h2Ri7Bp4Ie\n",
       "fQyJx8LJ0VRU41LgIMMjcBBCQktfcafmMn4Jn4yfL4hnN3mBHr3uHaM4W6/Zyh9N6ymn2Vz9HP0m\n",
       "ebOT6CKoABPqYBbJ7U67QwlhwSrAVBdhuazCwxMVvKJXPFriPnKfLDNg0sqqGxUvcgWjLkJfEGjs\n",
       "6TVtTvnSkcFcvOaIKIaOaIdLTk39PCuYzjY+ey6EoCREavGSlzpp+WtO5N+10sBywSatUS6nkL9I\n",
       "Lj/ZrWcPA++EuaN0mxLZH7wciF4lKFTcV6Yv1YgiRB4e7Pft9WaV22UIjBYM02uiTfVbDJgDZB4R\n",
       "Rg/c+GHIo7cRxRIl/4iwqONiSMHB4ppGMthsJ8nb1IBx56R6Q39AEhMDai2HX+FB3mjhNZItsyAI\n",
       "7hUP+3M7lx00PZ+0pK7ScitI4aQWP/zEScZPPWdqs5JXQoiN27aLegcGAramWuP8A+VWnfAtc/RC\n",
       "pC7DKVaF/6hEB+5EoiG3U/lhY2S/Z9m79lw+67uNcT2KDLJMDxQREqQGspmlJ6kNycrFCdig3UGT\n",
       "zpQ9x4AswrWz0QG4BMOTgvuwLc5kVdmsCBJpn/044hYt3uwE3YfcPjyqM6jhI8qUxNnyE8NGF3ZT\n",
       "RNXZ5EqFFNsrZpIP0jlmah+pcHBDE8Ip8d1zdggEQ+Uf/O6ogMUAoDnHxcM3yd7xEs7oe16p8NGi\n",
       "QFP0k+0twOANGatBUOV6PEVMAABekAs66LA/3efwBAHJAAADAAADAtroc2nnnWaLr6iJhe1Gcy5w\n",
       "6bwdzsIVfHDZIv/aAUQi7ATKl/Kx/HeZF3dYjSV0AmWqNvlJGe2mk5Ds31OsT2EIsQ/ZW42zg0Do\n",
       "h/+FSlCQO5i1tjoOJo96NyBvNFecS3DTuajYYHXHxQYGhVtA+8UvBXUPoJH1JzV98GrykKVvJl1J\n",
       "8FewXbA2D/OMqsPGvFtnDv2pJCPQjdcxYAVzUuqVO3Toan6psfucupPpElb8og/mohOTbh+sYvCx\n",
       "cq8irmfwlZP44yeDFwUeGHJ1l+9vyHk7InSlQssq3FK5isbjEOEmqRUcCOrHralx8VN+PV3drWpv\n",
       "ZoMefX3AITZGtVb+6ijE7qPCiTAXLM3Afe0ih3vGUxdpEDKZfTPi5p+59qy/ow6S525bajx4CetV\n",
       "UMh3f/7dzYzEOtZwoWr+BpCeCLrOLr0eAYz+jILcjV4dBp0NLoJwoJbiME8JRwo7TVkGzlt6/9aj\n",
       "1zIIZeCjOkb7TaGW7umN7ViKeFUUUvQsOyq8RUbgTUAGlBiD/vTYGoFCo+UnR7rrbqVPCIu33SQ5\n",
       "bUgtQUUvxJmHissn5JdAQ+h5A5mMkbe7EahyFEUia3atICWl8bIhKskmRa85azyUhXIdBg+QsdE1\n",
       "McHxeN51vbXOt3OiWRmdF516lE0nudRRIz3I8E8Zqu6QsEFAklK1E7NtsQ/1hkSWadm0xQDoDJSL\n",
       "4qfhAhUJH6uA05rkyQqkuy8gU1vlb4QxsH1R9F+T2v+2hwKkdNwe4ACC4Tp6MYZOTHq5XwCC4Hf2\n",
       "sVwXIUjV1hyVNaMTIhgxEIyvr6PkcWaoC6eIor/jxxcWIGmetwkpz0Pa450BA5U8LFbSCojsj0Px\n",
       "9Iz1o8PPRrKH4w2WKqJDHKpRQpnBqrNqjSgc+jyehTo9Tv/pip3zj75ZriLPwjv3nnilVkbGoFcy\n",
       "GJI0qwRiRkFnbz88Df+nYW9wUlwoR0ltMNw/wB3/A9FYLkcbk+TZA0/lIs/D2MbPVU8VsJJAd8db\n",
       "JfXmmWFxGMgUX0lxfjeAE4GzjcoO4+/WlPN1lGAGaQhdOC0kHUQaQuWvvXDobYPXZm1PhDdwc/2k\n",
       "KDo8ERp6wHlb6nRovIfnGOMe7k7VBYUkIo3ruOhrPagKL0nq/Peqc3xaHBxyOTkg1IKZm8pVuXW7\n",
       "/7+fJzJQ35Z+Xy4NxT9RrTKTaI95KOiq4N5L1xJN+UPXzxco++ONlUSRmQQ5NXy9c6zXeghjg1kL\n",
       "nWafkyM2pAQesgktGDM0Gpu36+wSH/Dc5oOtA7Vy1RNHkEERQV7r1TNmHvTseU15sAxs7xD8jXkr\n",
       "GUqCFCvGdrqcRGE37kEYQ3TdisV70MroHUQmx7piT22e6PNQ/YSRWMaEGMvGdVmN/VB5lnLkBbIu\n",
       "/BagvF/2DHZudozdQ8VghjIF4F2H44AgQZKK26u86gwnOlUB1hLvJKMA3uT/A4jwdyXVjJ0wM/sI\n",
       "YTtfHL2RHIT+mFdnGV/gYEGWuSF2xIZrrR97UGyEDxYU8dpEFJkspuf1Xz8zdLwGG+wfhjrRi7YO\n",
       "AyvoDj91MxtL5AR0KegqFMrta2AzthnvozWETDwZdZUjD8no60FsL4xFv4U1a43e8KdcYKo1mQer\n",
       "lxFGx6hgAy5wQ8mFwIAwRfjbDs0crJXc0I7N0NdaomgBsplUdkwN8ca8q44Pc59aWl8vbOvM3rAf\n",
       "Lf3AVcnTke+3+LpB5BNW0ZEaCbkIZV+NQ0PtggvY1kxyr343duJeOnSm+P4lgQqwh9WZAFDQOIRl\n",
       "BOGbSV823kH9lWP4QDYfqBHAvy0JiroD2IDtcVlxlMBeedODv+H/1RNdDZa/2FX9a/F6GD1trZFW\n",
       "yxYYkqkGOj6WwGJPtjFyNj+t1H8pvqvjmwHKE9o3Mxdoa7aMmKBTEi+ksGaw/4XuiWohJWWf00Ol\n",
       "oEzVEfOCo6ssuAsWbwx4LtcbbsiWtsAqVq5Ce+9VOaj3lEzZMRa99fp0Yb8jiuxqeJCDew/D3a72\n",
       "rHvSu2w7wgioog5W+ai3lD08uBLB/7xBwEoqCv6+X827Pyf0GDtTQRzgAjZDbCr0L4vOob8J8ir9\n",
       "MUK9rfNlijKmtm0oS9VjZ0oD10t0G8KbwAuKsW4qrNufv1rAcdHkIkM6w1H7edGuawBp6mQ+ENRD\n",
       "zxSlIuP3s3OcBxTNeymsMTLheRTJ0Mhoav//Pra5eG/RVkXzWMMU0HUK0IHfPutA/ywf5+z8Tetr\n",
       "o8Q7iJuncUBXUotZJQZWpgc5D8MaB+9reH7yFE3Kp9uEgiOyRTyhUU2n4Ew1+0OTxZ+Y2iF3SeDO\n",
       "8L2bOGdqn9K7yb6TNUWtMf15BMpd9RSk+xev3k/wAHpNzEdiCVOfUyclpfQQ+odtMQ93rSqAboQ8\n",
       "BUhTVzNNkPj2rehp0uRs/sOOB9ktjHyswg1RkmbJ8taWwOeylK7OSMUbVUWAOLsufg/vWvmziKms\n",
       "daNM3NSlqlWf3T3k5qlnWd2mG6wAPhsyW9J4u863C8UM3YK5l7Dsu7QgRkEyS6+8vBrnf0e+y9pl\n",
       "KIzFRze/jmTh4gXABTTQsesmx9GGw4fBvOjmW5Jt3JIWv+11JSKeGs7WGxdqW78I+6H4JcfZPl1h\n",
       "1WzHeW+o4XZe1ztcdpJsE2/xilbxm0ZLrLSJZNRHRuRhHFenZ5K9l1Fepyj2YLW12iVICrzKw0W7\n",
       "DLFN0nHxWIr5lOJAijBwp1+dI5rWrUFqY6majNf7P/PJilVGQbW0VO6z5kfLd3aGDjEmHEt8hWRu\n",
       "TDPq+KK7VLFUj3HSHS3jF/kRd2gYdB9gNpdk4eiGbpM9uUkKkiQ5CtxTtR8X7mpnHTCh+L/yrebC\n",
       "fup3y96sS14/DsRoEpbbV1HYUNynTiAy3g2iybn0YxZG3fhGdh3t/j6tRaleiWZtrpCRPDKll50B\n",
       "6x2395txakXp1TvblvHGQ91kFXtDmlQY6T6qQvTC5G9oJPdvy5XF78bJMuodvJFabVuNj/Qq5vx0\n",
       "rULhPidvnMWbNfuJovjmPG7LtO0rQr+g7Bd9Rz0WJ9oEdXHgizy9+ssI0gkw0kLOWFTv509n+T2X\n",
       "Y6NNffnlmNc8TQwlXdpj5XkFWUm+/6pqx8CGUaoTbAOIyEkXDdLZ3FjLGAn3hbwWXILzS0PRki+1\n",
       "a0KM7Pd1tWXKjBbXCYirgADePOOZpBehVftJ0I13wibI3C9qqBkKzYNqElRJky+KozFM4ZMRcOJm\n",
       "R8cdUOuJcf1xO1oNIFWrMcvBAHBU/t1ZGQdFedKR29qW1YK8gHCK4DFUTEIo7FDxTJ7oRkbctGMf\n",
       "j3cMLfTZy+Berzl7drpMu69qzIBbdbuPKrsmx/X7m3p2kXejCHtHw3LtwJNbvKES8sZUd+NX/rbL\n",
       "Bev6X+wiVRgT6HtY01i3WOVqUoz4HpHoFaOmSsfZ0v30fF6PW6XYLX9ofo8o5K5Lv1JuctxxIzml\n",
       "dGSYeq9UpBmf8UEHAiONHHrQ0NqPRa3Is8akyDfduq4GqWO96A/igs9zJ/xklJYy2QDgNsKgyHlF\n",
       "JfhtTFTUPXgE+PMDfbimsAgA0Qqk3YbRJED2tyIOZEK5dn7hssTLOiqL5aH6SvdS5Qap5jWHD/nL\n",
       "cMfMuo8o3SS1FHOfoCnAowZpjxrse1hgEcAmUZtZtCs3v52AygbU1GZSJKTvuzndBAYcwnYUvEhV\n",
       "qMkBSd6QkpiYiSa/Ma15ePjg1KPR2Ktm8pwyx3c9ToMjbkK026xThwhq1NP5xZNrjh0ulDOwt7Q3\n",
       "yKkwIEv58UF1Di/M1soyEjRgvLXrKFFusWBQMrIm3bfEFVEqo7Fsp4cGj0M9nES1JkAAAAMAAAMA\n",
       "AAMABq9eDQRV13C0JBSTLyM74mXdZTYg5CjSMYwSiTgHe7sExKT/57oTKawwfojpcNk0uU+kua8k\n",
       "9DWyUxKVYE2dIx1QOUHZtysmg21N2lduAIPX/kjnE90qv2Hr43PMI+swPonlfEuptWXGkGrR5d6j\n",
       "PJwI0JzickX0ykaDKTsa1gKl+SiTKhpAwnF/7Y1R5qq5NgKdawK5l/HAUQFyIlQ6l00P8Jd8SE9r\n",
       "uUXPXYGttXDUSimh79U5pkRQ+0kvnDxSuA44J7WR3sBm9X4sQHR4s3jQMWL76hYI1zgLON9dUHrJ\n",
       "FJO89Xe5eNfLhvmnkoRoTZJcV/wABc7pcjN8PD+WLjvf8jD+B68dgjsl2w6O9cLd3ZO/9mAGlnfQ\n",
       "O6G2EYDgbrUS8ZQNfuopvjP0CZZwhkUuMqetRtF4MfpgL1co+JSMJhUgnIXcf69fOP28hskVdyop\n",
       "NrlFP7+Az5JmfIAAAQ5fcqMnulZJCCjZPr8d/60wOnvc+lRQ7xfjv+ysBli0sULwG3fwf/g/L4Zl\n",
       "Qmv7tWj3HfQzFf2y10lp8bWTqaS7kWLoiUdGBr17A5TX1halPcCkG/Wpvu7QvQSP22EXtoSqAYmU\n",
       "zST7H3oPZoP//Q0QaFhdWl/OiKy0zWUpUQWsMs1lsWL2jDExxxxittn2xbYHNfWJSDD4M2QVz9PP\n",
       "2srYTV0WiiNccAuGj3Hw9zc19UDcwIU18lXR4gI4ZirjnW5fo2kk8L4I9k81UVlizlxxiCm+ARjC\n",
       "HQO5QbutezBZ3J+ZjPzNg8Bzg0+uu3ASLU/CNRBpd3vB/AGABJZI9/9qZSf76n+1Oi6E8Ohm7y7g\n",
       "ITnePS97xnR7mikdeDHAZE6p+b0JyCuarjUuVHuLr4MDliQi34fFQ/iVxB1KGnRRJ7RS+84uXwt5\n",
       "s92CrR9lACIjr1HdgAAV01c4Q0cSfPx5Pj4jWtbaCHh8ouAat9g+2FV9QmBE2GDEj5wnawcElaJL\n",
       "U4KHvCxL0cYqXJfG01gtbPtskntIzFT6znQ8qH1UrBH+f2CHawMBBW8CWiAmkuX82TGR15Is589K\n",
       "XacplmkGEvABNO9VFckLST78qzNQ6UJAfJHt7QR5r6lCfchB3upKrYdbekkC1RebsWaHoBiK1751\n",
       "1I5am3ADjGBwDsFsHMpr0hrEZhzt6z4RgSDkDiQPgqgPvcLd5ZGZkBL4AAeBmm+0i3xa0qpPAio2\n",
       "t40N8AgwKzpzlgUMbqsc208DzD0NTrDnAT13YjhLuGWrThXThfN6MvA5O3zwLeCcg632juG1I+CD\n",
       "Lqe8Dl32QExEbBb2l2HGOaZDfoQkqwTXE1V0EHS2VdQ0M4VrphxPk6uqoD1Ss2W9NsHxuJoP08is\n",
       "QqA2GnNUxvmI4DcIu9dBSOFfIeHAheH5z55hqTCJTK/xOCY0m5872ilLiPQCST4AigWdWgoYpOxl\n",
       "9Tw6DuKUtjlUeY/iP4CTXHr2nYXWsykotu9+onR54dBibmaL+xhGd6O0t+yfPM2a2r9HJq2LE9uf\n",
       "SakFO+viYsG+Rgl4wPt9nRZokfumqu+W7jkCn3fp4dX+JPi+HPNYcLbc1wlHLeepQQV1S76KI5w2\n",
       "NtRpKhuCjBPW/qrw03wRZwHoMiQUiFtCUFk/p1QRzXSVGKH46gCxz1V4UUW3grqm//GTvTO/rC/z\n",
       "+T73hvGioXIw0HQ7X82tl/dpgvQpqOoDFaNgFl2Zy0LrgsK6PJJHe3R5gBeXCRry8nSgjKhHbSWq\n",
       "mDDh9e13/luCGtfitjTttMJOPEmvPTRmxVFqaXLa2ifCgFJZJNISD5iko8/y31Yj3slqaRtd6E7U\n",
       "xZPX1CbhP4MZ6/WlFy930eKE2fAORZG2+YSA/Z6bxZhhFXrSyEAj6MjT38OWCvxDnRTGLVg9ScIe\n",
       "jTyUyw1RcVVY9O47Cz9yf/jrX4f+iGhOQDYTblZlul63NFB8DM7AShjSLz0wASMM2KzJ/EcbeCkt\n",
       "caDi5IXwn3wHzY9wYKLxBdpz4FBkD9Ka4TEcSQSrnlHmaUlFjEbCEuxyldvaTjEm/SbhOgDhsUgx\n",
       "Wa4DSpPqgc+MZbZMt5xzc3px7OWE0+y8cKWK7/7I79r8gmCprHFg4SHaA1UuzUbEw5GO45gJ3+7L\n",
       "nwfpkBPjXA4jRtp0zzKDKe+RU5urY70WnCsAQTinvnfN2xbn+knMwsmI9Kp2rtZOvoZ9h114kJIi\n",
       "oqfmJQQpBNMiAzKcpwUqjzdZWk+3OzLYlrSvn/NjV/J41Ww6dswNU8JgKAZ/To+opqdWuc4RTHKA\n",
       "QJan30+esKxKrEvmdGhoMTEBFrL+F7p/nmb+K5MrgEeOOEyOFImbf5mpWaUrH3cIo18ZjwruWqdD\n",
       "dMw2swSd/B4NKZeeMb21KtlcgdLvhj08YH6ojV2CaYsxWH71nPlFac6+wlpHaRClA5s4p9NAPLWW\n",
       "8rIDwQ812FAJkX/Mo3K0X3IhJmAACwcUG3VCANxiAAADAAADAAADAAADAAADAAADAAADAH3BAAAD\n",
       "D21vb3YAAABsbXZoZAAAAAAAAAAAAAAAAAAAA+gAAAAqAAEAAAEAAAAAAAAAAAAAAAABAAAAAAAA\n",
       "AAAAAAAAAAAAAQAAAAAAAAAAAAAAAAAAQAAAAAAAAAAAAAAAAAAAAAAAAAAAAAAAAAAAAAAAAAIA\n",
       "AAI6dHJhawAAAFx0a2hkAAAAAwAAAAAAAAAAAAAAAQAAAAAAAAAqAAAAAAAAAAAAAAAAAAAAAAAB\n",
       "AAAAAAAAAAAAAAAAAAAAAQAAAAAAAAAAAAAAAAAAQAAAAAPoAAACWAAAAAAAJGVkdHMAAAAcZWxz\n",
       "dAAAAAAAAAABAAAAKgAAAAAAAQAAAAABsm1kaWEAAAAgbWRoZAAAAAAAAAAAAAAAAAAAMAAAAAIA\n",
       "VcQAAAAAAC1oZGxyAAAAAAAAAAB2aWRlAAAAAAAAAAAAAAAAVmlkZW9IYW5kbGVyAAAAAV1taW5m\n",
       "AAAAFHZtaGQAAAABAAAAAAAAAAAAAAAkZGluZgAAABxkcmVmAAAAAAAAAAEAAAAMdXJsIAAAAAEA\n",
       "AAEdc3RibAAAALlzdHNkAAAAAAAAAAEAAACpYXZjMQAAAAAAAAABAAAAAAAAAAAAAAAAAAAAAAPo\n",
       "AlgASAAAAEgAAAAAAAAAAQAAAAAAAAAAAAAAAAAAAAAAAAAAAAAAAAAAAAAAAAAAABj//wAAADdh\n",
       "dmNDAWQAH//hABpnZAAfrNlA/BN5ZYQAAAMABAAAAwDAPGDGWAEABmjr48siwP34+AAAAAAcdXVp\n",
       "ZGtoQPJfJE/FujmlG88DI/MAAAAAAAAAGHN0dHMAAAAAAAAAAQAAAAEAAAIAAAAAHHN0c2MAAAAA\n",
       "AAAAAQAAAAEAAAABAAAAAQAAABRzdHN6AAAAAAAAJosAAAABAAAAFHN0Y28AAAAAAAAAAQAAADAA\n",
       "AABhdWR0YQAAAFltZXRhAAAAAAAAACFoZGxyAAAAAAAAAABtZGlyYXBwbAAAAAAAAAAAAAAAACxp\n",
       "bHN0AAAAJKl0b28AAAAcZGF0YQAAAAEAAAAATGF2ZjYxLjcuMTAw\n",
       "\">\n",
       "  Your browser does not support the video tag.\n",
       "</video>"
      ],
      "text/plain": [
       "<IPython.core.display.HTML object>"
      ]
     },
     "metadata": {},
     "output_type": "display_data"
    }
   ],
   "source": [
    "mitr.vis.show_video_polarized(data_transient_np[:, :, :, :], dop, aolp, top, chirality, save_path='video.mp4', display_method=mitr.vis.DisplayMethod.ShowVideo, show_false_color=True)"
   ]
  }
 ],
 "metadata": {
  "kernelspec": {
   "display_name": "mitransientpol",
   "language": "python",
   "name": "python3"
  },
  "language_info": {
   "codemirror_mode": {
    "name": "ipython",
    "version": 3
   },
   "file_extension": ".py",
   "mimetype": "text/x-python",
   "name": "python",
   "nbconvert_exporter": "python",
   "pygments_lexer": "ipython3",
   "version": "3.11.3"
  },
  "orig_nbformat": 4
 },
 "nbformat": 4,
 "nbformat_minor": 2
}
