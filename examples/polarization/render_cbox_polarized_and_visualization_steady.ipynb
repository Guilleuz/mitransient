{
 "cells": [
  {
   "cell_type": "markdown",
   "metadata": {},
   "source": [
    "# Polarized Cornell Box and polarization viz tools (steady state)\n",
    "\n",
    "## Overview\n",
    "In this tutorial, you will modify the scene from `0-render_cbox_diffuse.ipynb` to include elements that change polarization of light, and change the `mitransient`/Mitsuba variant so that all the code simulates polarization.\n",
    "\n",
    "<div class=\"admonition important alert alert-block alert-warning\">\n",
    "\n",
    "This tutorial assumes that you've read `0-render_cbox_diffuse.ipynb`. Most of the setup code is the same. Here you get to see the polarization of light for that case!\n",
    "\n",
    "</div>\n",
    "\n",
    "<div class=\"admonition important alert alert-block alert-success\">\n",
    "\n",
    "🚀 **You will learn how to:**\n",
    "\n",
    "<ul>\n",
    "  <li>\n",
    "  \n",
    "  Use a polarized Mitsuba variant in `mitransient`</li>\n",
    "  <li>\n",
    "  \n",
    "  Modify the scene to include polarizing elements, and to simulate time-resolved polarization</li>\n",
    "  <li>\n",
    "  \n",
    "  Visualize the resulting Stokes vectors</li>\n",
    "</ul>\n",
    "\n",
    "</div>\n",
    "\n",
    "<div class=\"admonition important alert alert-block alert-warning\">\n",
    "\n",
    "The two tutorials `render_cbox_polarized_and_visualization` and `render_cbox_polarized_and_visualization_steady` are very similar. The first one uses the transient result to generate plots, and the second one uses the steady state image. Look \n",
    "\n",
    "</div>"
   ]
  },
  {
   "cell_type": "code",
   "execution_count": 1,
   "metadata": {
    "jupyter": {
     "is_executing": true
    }
   },
   "outputs": [],
   "source": [
    "# If you have compiled Mitsuba 3 yourself, you will need to specify the path\n",
    "# to the compilation folder\n",
    "# import sys\n",
    "# sys.path.insert(0, '<mitsuba-path>/mitsuba3/build/python')\n",
    "import mitsuba as mi\n",
    "# To set a variant, you need to have set it in the mitsuba.conf file\n",
    "# https://mitsuba.readthedocs.io/en/latest/src/key_topics/variants.html\n",
    "mi.set_variant('llvm_ad_mono_polarized')\n",
    "\n",
    "import mitransient as mitr\n",
    "\n",
    "import drjit as dr\n",
    "import numpy as np\n",
    "import matplotlib.pyplot as plt\n",
    "# dr.set_flag(dr.JitFlag.SymbolicScope, False)\n",
    "# dr.set_flag(dr.JitFlag.SymbolicCalls, False)\n",
    "# dr.set_flag(dr.JitFlag.SymbolicLoops, False)\n",
    "# dr.set_flag(dr.JitFlag.SymbolicConditionals, False)"
   ]
  },
  {
   "cell_type": "markdown",
   "metadata": {},
   "source": [
    "We use the short alias `mitr` for `mitransient` for improved code readibility."
   ]
  },
  {
   "cell_type": "markdown",
   "metadata": {},
   "source": [
    "### Setup the Cornell Box scene\n",
    "\n",
    "The scene only changes two things:\n",
    "\n",
    "1. It adds a \"gold\" material, which changes polarization when light scatters on it:\n",
    "\n",
    "```diff\n",
    "+<bsdf type=\"roughconductor\" id=\"gold\">\n",
    "+  <string name=\"material\" value=\"Au\"/>\n",
    "+  <string name=\"distribution\" value=\"ggx\"/>\n",
    "+  <float name=\"alpha_u\" value=\"0.3\"/>\n",
    "+  <float name=\"alpha_v\" value=\"0.3\"/>\n",
    "+</bsdf>\n",
    "```\n",
    "\n",
    "2. It sets both the big and small boxes of the Cornell Box to that gold material.\n",
    "\n",
    "```diff\n",
    "<shape type=\"obj\" id=\"smallbox\">\n",
    "  <string name=\"filename\" value=\"meshes/cbox_smallbox.obj\"/>\n",
    "- <ref id=\"gray\"/>\n",
    "+ <ref id=\"gold\"/>\n",
    "</shape>\n",
    "```\n",
    "\n",
    "You don't need to do anything else! Just using a `polarized` variant will automatically handle all the necessary Stokes vector tracking."
   ]
  },
  {
   "cell_type": "code",
   "execution_count": 2,
   "metadata": {},
   "outputs": [],
   "source": [
    "# Load XML file\n",
    "# You can also use mi.load_dict and pass a Python dict object\n",
    "# but it is probably much easier for your work to use XML files\n",
    "import os\n",
    "scene = mi.load_file(os.path.abspath('cornell-box/cbox_polarized_steady.xml'))"
   ]
  },
  {
   "cell_type": "markdown",
   "metadata": {},
   "source": [
    "<div class=\"admonition important alert alert-block alert-warning\">\n",
    "Note that this scene uses a conventional (non-transient) integrator, so we only have `data_steady` as a result\n",
    "</div>"
   ]
  },
  {
   "cell_type": "code",
   "execution_count": 3,
   "metadata": {},
   "outputs": [],
   "source": [
    "data_steady = mi.render(scene, spp=4096)"
   ]
  },
  {
   "cell_type": "code",
   "execution_count": 4,
   "metadata": {},
   "outputs": [
    {
     "name": "stdout",
     "output_type": "stream",
     "text": [
      "(256, 256, 13)\n"
     ]
    }
   ],
   "source": [
    "data_steady_np = np.array(data_steady)\n",
    "print(data_steady_np.shape)"
   ]
  },
  {
   "cell_type": "markdown",
   "metadata": {},
   "source": [
    "`data_steady` has dimensions (width, height, channels) where channels represents the $(S_0, S_1, S_2, S_3)$ Stokes' vector components."
   ]
  },
  {
   "cell_type": "code",
   "execution_count": 5,
   "metadata": {},
   "outputs": [],
   "source": [
    "data_transient_np = data_steady_np[:,:,np.newaxis,[0,4,7,10]]"
   ]
  },
  {
   "cell_type": "markdown",
   "metadata": {},
   "source": [
    "## Transient-polarization visualization\n",
    "\n",
    "S1 and S2 share colorbar.\n",
    "\n",
    "The other plots are those proposed by Wilkie and Weidlich [2013], commonly used in polarization research (see Baek et al. [2020] teaser)\n",
    "\n",
    "[Wilkie2013] Alexander Wilkie and Andrea Weidlich. 2010. A standardised polarisation visualisation for images. In Proceedings of the 26th Spring Conference on Computer Graphics (SCCG '10). Association for Computing Machinery, New York, NY, USA, 43–50. https://doi.org/10.1145/1925059.1925070\n",
    "\n",
    "[Baek2020] Seung-Hwan Baek, Tizian Zeltner, Hyun Jin Ku, Inseung Hwang, Xin Tong, Wenzel Jakob, and Min H. Kim. 2020. Image-based acquisition and modeling of polarimetric reflectance. ACM Trans. Graph. 39, 4, Article 139 (August 2020), 14 pages. https://doi.org/10.1145/3386569.3392387\n",
    "\n",
    "(Plots may take one minute to load)\n"
   ]
  },
  {
   "cell_type": "code",
   "execution_count": 6,
   "metadata": {},
   "outputs": [],
   "source": [
    "dop = mitr.vis.degree_of_polarization(data_transient_np)\n",
    "dop, aolp, aolp_scaled, top, chirality = mitr.vis.polarization_generate_false_color(data_transient_np)"
   ]
  },
  {
   "cell_type": "code",
   "execution_count": 7,
   "metadata": {},
   "outputs": [
    {
     "data": {
      "text/html": [
       "<video width=\"1000\" height=\"600\" controls autoplay>\n",
       "  <source type=\"video/mp4\" src=\"data:video/mp4;base64,AAAAIGZ0eXBNNFYgAAACAE00ViBpc29taXNvMmF2YzEAAAAIZnJlZQAAJnNtZGF0AAACrwYF//+r\n",
       "3EXpvebZSLeWLNgg2SPu73gyNjQgLSBjb3JlIDE2NCByMzEwOCAzMWUxOWY5IC0gSC4yNjQvTVBF\n",
       "Ry00IEFWQyBjb2RlYyAtIENvcHlsZWZ0IDIwMDMtMjAyMyAtIGh0dHA6Ly93d3cudmlkZW9sYW4u\n",
       "b3JnL3gyNjQuaHRtbCAtIG9wdGlvbnM6IGNhYmFjPTEgcmVmPTMgZGVibG9jaz0xOjA6MCBhbmFs\n",
       "eXNlPTB4MzoweDExMyBtZT1oZXggc3VibWU9NyBwc3k9MSBwc3lfcmQ9MS4wMDowLjAwIG1peGVk\n",
       "X3JlZj0xIG1lX3JhbmdlPTE2IGNocm9tYV9tZT0xIHRyZWxsaXM9MSA4eDhkY3Q9MSBjcW09MCBk\n",
       "ZWFkem9uZT0yMSwxMSBmYXN0X3Bza2lwPTEgY2hyb21hX3FwX29mZnNldD0tMiB0aHJlYWRzPTEy\n",
       "IGxvb2thaGVhZF90aHJlYWRzPTIgc2xpY2VkX3RocmVhZHM9MCBucj0wIGRlY2ltYXRlPTEgaW50\n",
       "ZXJsYWNlZD0wIGJsdXJheV9jb21wYXQ9MCBjb25zdHJhaW5lZF9pbnRyYT0wIGJmcmFtZXM9MyBi\n",
       "X3B5cmFtaWQ9MiBiX2FkYXB0PTEgYl9iaWFzPTAgZGlyZWN0PTEgd2VpZ2h0Yj0xIG9wZW5fZ29w\n",
       "PTAgd2VpZ2h0cD0yIGtleWludD0yNTAga2V5aW50X21pbj0yNCBzY2VuZWN1dD00MCBpbnRyYV9y\n",
       "ZWZyZXNoPTAgcmNfbG9va2FoZWFkPTQwIHJjPWNyZiBtYnRyZWU9MSBjcmY9MjMuMCBxY29tcD0w\n",
       "LjYwIHFwbWluPTAgcXBtYXg9NjkgcXBzdGVwPTQgaXBfcmF0aW89MS40MCBhcT0xOjEuMDAAgAAA\n",
       "I7RliIQAK//+9nN8CmtHM5UuBXb3ZqPl0JLl+xBg+tAAAAMAAAMAAAMAACLmA1YwWyx5ZpAAAAMA\n",
       "AQUAD2ACIABdxEyzBlZgAEONJkvlUHXDVme6Rw50ew7mku0FLQL2qJza7vPgJfMY2r6jKN91aMLd\n",
       "kAb/EOMbalnYkE9GcqxSOPCR+pf8qEOt/0rVNeue+GGIKh/tT/by5Iqib1hrCzN0WVK53k0GrEDV\n",
       "UCjfGApD82zp8h5EtYU5SgQtPO54vlI4fe8m3JzTyZgt87+vQec9yypA3drv0gGnOyQOiLG6/Gfk\n",
       "oVFzl3aC52pitTdmOX2c40yKg+PO9XpURrjgGsZE/C48uTI0uZ2B0Ho9vMrl7Bw4Z6ogH/7uuMuc\n",
       "WQX00/Xy72m2/dRkE3ah/skkYNBnsi4fBllen0oPXEMChgGgiPwckZpfOT7sHoQj/uRLJ4zFNYwo\n",
       "/eTUJQ05Mkf5T/rIhyTLAIoCTIDfpquxV0wqdSfds1JAil6/UCea2ww1PsraJlKZSquCnWdUpZe1\n",
       "rT0GFyWNshA433LSW45t7RLGEurU0BAttDNw7bFvTAAaWZVsGJ0MKWmp3bH9Nm3XE2ie7bgqxc9x\n",
       "6ITHXa3/Xg/z/XDI/mXAd9Qz15rbLL73/OEPN41AOWnJ7wUPxCnSMnBSe5Z4QxDZTaUbcrU1iSTy\n",
       "U++vEcrcA3j1jSkCKhKmhRFeA99qu4uLP9G3OeQMYHGei1wPZCDt2obZDbm+gZKeA2zDpbbbW8/A\n",
       "624mMyJey/Hryucby7fg2nPYOvtup7HZxtERTQwYgonN3cjRjoipobaWZOIzPahwzYCwxfyMEksY\n",
       "K0bulNYdfYP16pIa6YpMq2mFj42xDVRJ7+HooCAm9T7BmhweFt8Qcd6kiVIUJXPnBrFUJQVubBAH\n",
       "o+NAAEz+XpfG/1PfTNoZ5D0DrIvnWloG/m7VmVSUuIHgIAfdOwcOlhy+x4Opd5WCgVSY5j/FwFRs\n",
       "UdGwbWtV8LLjeebPXeOInqujZ1G/KCHxUaH5iko9Xh2Bmrl15DgAYGG//sqEw4wcX5o9KBrXw1wU\n",
       "5GzMoo6vxmOqbBFF2Cahyo6krO0mrpfDriF6Xcks+ezB8Q3y4yQSDEXDnvnUbW/vK6i59HPGN8Iq\n",
       "UDsHiwecqEIc8265XgSXi33dtz9uL3kQnXBGjQJsus6wfeuLgh82IHCcODa1Urr0+tgkl1E6T2zL\n",
       "QkeEJofU6diKfdSxcxFPH53zqUXp7ljNAxlyc8qMSZJuJUs1kANYZhHgydIry8a3Q8odhcicfNGb\n",
       "UI5dAgWNaVsTWRPjxIcVJg83nEaboXnkK3q+0lK3j4TZMeYL3PH1yjzgQ7A1PTAH90FQNhbcse9y\n",
       "dFE5Z5I5NnKeEnaGok7OVDtP62YIO5nDANQJejgUoTIRkjFcYYHoQ0oc/D/o+K8xTBD1MRzXEVlL\n",
       "IsIfsfiIeelW2r/D4Ujj8mTic38VRhYjTpIXf80Ya2f1TsyimIcjW5j6Z3l4t8i0S/GeQZzYVAcm\n",
       "Fvao8r6qtwzuBLFL66YHWdYesQydOF4q0h0m6LwjhpRXEFYD70/7qpKZi5lpqjDIlESgVwkEbUFQ\n",
       "uItpgPAF4Sn06xEgfdPsBN4rBA8Ih6G8QhKPhyl5f/A/TcjilLFo6LLmzPT6yepkVHby8yf+h1Jh\n",
       "b/QbzwSNCoLcRCmd3cidlNreyVu5vmuC8YyTNkDsENxYq3quSp9rf1A5fhBfOVb4kAWxo0xeTAG7\n",
       "xERImKrfyyUospCZOGaZoNP4C8OTU0eCama6KOEDAmGuLaNO3nes2rJz0ubGdY6Srf4yFCgzjnRR\n",
       "7xlpv2Cex5t0Toe9eU9k10lKgudkqqD1RjkA+YMOfiUQ7Chuy115hMIuNoYHGlJ0BLNAZO86UiXQ\n",
       "2gQl1GyNewNmFOIgwlve2HEsnuY2AaFbv9dV1xWUQGUgea9a8dmmUo9hsDPLexe9+V2q7GegvDVH\n",
       "f5jec2xrLZ5mE/X6bY+Jvx2rmhkohRjeebFQ53x41EQ3YxbQ1FyS/s00Z3zPnZ3SALVy3bMRd8IQ\n",
       "51MYiE3TvaBtCqfAYTx52XjEnsnzhp4Pn8WrDDPmGQn2aLAotmTTrU93yfUT3mfVcgZI99Ng+XrM\n",
       "eMI0dpC02+h3u4w37K5trIT1mLcEQ7PyV3A/MRUoMMyssSr6JM+mcYAtZGQFiYZ4RZ6LFC7dOgMN\n",
       "05tgnLyoi/4JZBJSPIzyLwa8xNRDhPe0w0Hnz9hAwWxCNy5pvY7cgc87zPAbRqW0c4SidvkscZjB\n",
       "9XWJYO6v9tWz2/KUcH+MDv+3A4sWRl1VFi95yspFlKD42RSU4Gm8AcPLeJAnvrRfumObD8ERg5HC\n",
       "nasHfTr7dIJFTEiw7QEy5D06W5nKijzO/Tpbh2QM8VM+Gi3VdOcsjNcZ9K8kAO+lf6LyaSD71Kig\n",
       "jB12gK34HSLgvEjEbQhokS55iDFC2gEI4nJteBkThkLSUC6fefFsK91LYCNzbHIuyyVotDcW+Kqm\n",
       "GBYHd+nVUdoVljRXK4SCcn2krmN7plB9IF6g8SNytGp8FctAZAFNrwDP0lj7TIgirQzik3ggZ5zc\n",
       "h6rctIXtBCba9bRqQIWy6muwKXlleOTy7lzV953SNpdKFkSTF1RKzqYXIV21WUiG+j1+uiIDxzgJ\n",
       "0qAc4rP3zi1nlu/IVcR+0mVZMn6rLksR4UhkNxTU8UDja+QdxW6LJXApDoMMyb+x2vfz4ACtxMmU\n",
       "dXosay7tNG7FdBfoxVSqG5Dfx/BSGm2uyhCxeSl5MOcfntVBKlh1APrD381UiSnUjRLrNT1l59x8\n",
       "qPDsGqZPc9PVo0dLwahzFemJwcRN2T1/k9boiHmabp6sUjSRzEe0eoouQJID0gP3OvcMAh3Kn4cI\n",
       "OnIHHIqdVo7s9EiSKzdZh1SojfcgZEq6hrZJsaGzJ4ci2T+QoON2VAEkQj75ZCGgFQ/q47Uq37YD\n",
       "qOntkaC+JufCc2pZwiGpm3NR1EC8oNNQ8diq2avOATV2+5qHkhLY7uppBRCOh/OcU9hvF7oVKwiS\n",
       "Gt5CprjwbVClCaVncCKl+ggi6u1yKv/MAg98AiQVDkeJPg9Anj+WOZgiBGJSeWtJzgTl486rXL8t\n",
       "LVQWKGsBFzW6C3D2g3x7vMsZsId/AoEFlHYLceFRq5bUe4202lxvbKGYfQSlA9fF3DX/yGCH7vak\n",
       "lyUTMGtvAjrocf0+EJurBIXB2y6xe63P5EA9QMOrI3e6SQPEJu7sh+JNyVC9a1BweR+ZcLn1mulf\n",
       "0w5fP1DWQAd2IXcEYYFFwtLl703V7BZoTP1D4afi4dJ+cK7pHChe2kOdN0354qhifvEUQM1sGD5a\n",
       "OcKEdAIkQaXpxceJmGHwWzhGpEP+KR56Hc8U9WG5qLfHGLs6U0LxNj2kTYxhb+KAohzLsw8LcVwR\n",
       "TYUeWJgw2rjFMlzqGBLsVbFfODcGKI/ObnUhusZse6pIdog3It3cILuzGH+63kfKFUyOpSbc8x0M\n",
       "r3GpZ/Zpvz5AS0IxYEsoxuKT0mYQNG8d0r+7KGn92hhrWEqOeqvcdje+VoLIr2l7ZteGPU6ST6JK\n",
       "HqXBqQBpixbex5raKskt36IGf+/qYdzSm/wjTrzmVf+Ni3+rLYgEkm5cszbTnBHzjUBrRC9gJDLd\n",
       "V4/rEBuPJpJ7rMtXOq2iY4zbi4rS4C9BKpdmoedHhmjAigjjzDyiihSGHDbhrVxyv7JkhFfYFkQ8\n",
       "1idQP4TpRC6RzzXFzVOE7RAkg7C4UEPDn0YZW8yuTYE9pXLZl75O1SnqOQH4shtuCHiy9yIYre3x\n",
       "paUohivwhctJbGde5cf/7C6dbYs0yNHHIzne001Zztd0CqEAHNavVl3uSa4i+ofhtZdb76fXV7yL\n",
       "UkUuVeD+TU21RwDVdeWMySXsdjbPwjSEh+/FBmVsdUuujKsG8+o6xazYywSBKHSGfjDZn3jPEOwP\n",
       "0N0aVE7UzzcmZV/K7T7tdoIWmcW+USBOf/wI/BeihZyndw2MppmQiGucl/OrXy0K6W4T0efZObp5\n",
       "zknV2DL5vhVgpU6OTjNPf2OMdF5/x+wt8k+J7EQFgRKcnz41pTZoDMEK6o3nK42xFsEO7QGbGnlc\n",
       "fPrTYSZ20rWf7aaOFd8pzYBFeX6YGoK4b35GNAmPM7pStAEP6s47ZI2i76O6/29yjIV7b6QlBzDJ\n",
       "QTZHrPl+vLJSeWj0LxjgDKZ019100i4dJnE1PSzxksjt1AXUpA8XnrHZGes6ogDZzfV80dLTkFK9\n",
       "5RmT/mt670m3ek9MCa9C6BbLv+y1A5xbYdxtCvJlZi0f4QoLpi7G9l5TU4UyVSVBgOu4tshZWdn5\n",
       "3aEeW3akJsne7VfeyMTIb97mAR6H8KOF//GWgPmnS7uG1cWOogIIyYakBGIyppQcH96HaOgGIofx\n",
       "/LaqUdisLvnxaavHWF9n33KHGxa/Y7Pc6et050gobEzTeVvHfnN/YD81NVRQNik1+DVHKR5ZBR89\n",
       "a92utU05EsPW4o9XVPS+JC3nASFgGuFqEYiNriAo+fgpVwPJHpGhqckIyFlKUo6ou9iwta7yVOwn\n",
       "Bh//5TLcsc6YV6rade7uLpzFiLJ4eA6U3Q1VEIdLTkqSAhDY52PQc15gdCXs3+UT65yIDjQAUPtb\n",
       "LgZqaS9LAcxEED6tuDUFayhl86JGH6+/P7TuuEHucHdgU3zLuZx+u7A5fNGlQxFjVAnQGGN4Jn74\n",
       "yPkb5iuK1nDTW+1lWQMt+nRBRZCGx4Rr9lNQIuT4dPilB3TLR15K4oXhEBlq/J9DWuW7yavzApMc\n",
       "HXezmqHMLEhEuIaiHHuAgj2kTc7oX3hNUtktp4d/iC88sg8P5vkOtq0+ptA7FpNwP5JvvI7QTes3\n",
       "jw9cITE4ul9rslYLvuw/om5EtKYEsQW2e2YIfHXLDlDrB9l+isF1QO/omh5Em+Uob85qObufapwe\n",
       "Sdo3RIaSgMX4aDpn50itZkbqcz4RNhRyrYYZ15034EJZGY6UIDMDIIUOBUNM38DWR3WU8UZpk8QV\n",
       "mGgZ/MphBlloip/pGLWpXrG6M3cK3BKSffl+CkqegzO8zdy3N4RTE4Mx2atKnoTNomaak4R7WUTa\n",
       "qzPu7HuJPBalNEn18G1/vFwEJOeuWyrjpFszI9vG6abyY2LcDEwWuQtHhmo4w6l5+t3OE0vlleX7\n",
       "B49II9+Tvf6VQsFxrbMmd4vTt0HwQ63A3r6PB+kiTy+K77MQzYMGjpNiNkPJnU1iyi+o4WI1bTfZ\n",
       "YGfIRHCUk8Ge+LpyzAsvHoI+t8UDH0SVRGEnq+XpXj7uz4JXxH+JTSfDu6qzFAjXgnBGlv+Z/JoC\n",
       "xfhuDYYIa+rNTt9t2EH3HzAsg0WY/XrXgMBdtufytC+dT9GAwB5RscLz/zjw7+LPDzU3tzFifxEG\n",
       "TJ27QBro06nitft/S8uYVem9D1IaT1A1YYLva5/O3W29tNw/fBTdDYmQZo21eZL2ufK59+cGwO0t\n",
       "hPO1UDOZ38xfRizshtwHsB20lgbFWTHRycjsYRSe3sRyMXzVdfrYrlC07WLVEZanSzr92sLUgksv\n",
       "35oAjMQtUaSqZpKBXD++Ztzru74JaLjco4l4Ae0yVdAZEhrlX06uf0HCC3Er6GrqHKB5C4pSLnpa\n",
       "nJhlCpv6wNKVJXfJf19pZpoOSbgUumww5IyTun6eWPtrxI6RWOrGDWKDiE5+NrHxOfz3BTNk6k76\n",
       "sz0rTC+am99mm13jTAtaqz2sgyGCAdRdTzVuzv+8zJo3QBoujjRXWCMo9ba5EjD7wo5mWe9Fvpj3\n",
       "NsI/odTAAHY94nvAEYRLu7dd0UvQ2fjHkhSYGn7z1ifkvVLoZgGxrBr5gB/AAACI8gABCwTYfCwy\n",
       "Hg8LFFlQAAADAAADAMVZUwfOk56et9SWAotvGYiLZGu/wWHUnpv5OD/+i/WQLBp/PRaW7VHeZWQA\n",
       "NDjCtrHZkr+qi6tT1Aj2jQ12gT0vL2q5mY62zfEu7lpBmC5fK5lOCGmNXcjkPLkAnIiTGoro9Tub\n",
       "eLLuQHBMvb2zet7Bj+dKB5VN9M873tCoiPpW8CXUovON+39zwerV/S0PHi3hIQR+8kK9CEx/ILAD\n",
       "FR4W1dXYJljZrgPlJdbDOI2plsJ7/5kL3R7b6I1h7Ql4k2eO/bhq5KkgpydPR4YclQFkoREuY9u9\n",
       "0y9Zz1cT4KIkVsQ4Sa4Wed+ds1kYJi18dPDq5KnhBAY+N1ndcAQlxBv6atkvLUuAvgxkBcszZ3md\n",
       "TU9aRaxF2kQMpOvX2aAn7hgeL+jDpLnNMFqPHgJ6dNQyHd77ZEkqF3hh/W9UVlXwE2mSM4uvR6WC\n",
       "pYkotyNYW6awHBmFTeNYtk0J4SjfnIdrINnJD1/7B8iCFGddQZbeaa7wdsCWMb1s2RcFWMakig0B\n",
       "RvuYJf4lRNKDDntzAwNM7FR8l9wTkC+Pwy0PnFFh2fBP7V5RSfKXau9TSUdwFeD6HjpQm9xt7sPJ\n",
       "G2fEPprdpNexaXy5/V2RyOrTrlrPJSHchlE7NCx0TEQBL22i8yfUU38fe9i1A1VkdNYQh2OVIEV1\n",
       "zHGlUzVd0hYIPPmqIFiit7205rDIks068JigHQGSkX2wKElTvpBYvLixrkyGZhsy8gU1toEfuLbZ\n",
       "Rl9F+XREs6CFMgJbg9wAEFfxz0YwyamPVNkrcunjvWsVwXITnVydiVNaLmF/gxEIyvrZqckWan+r\n",
       "eIryqO7qfPUQmetwkox0O8450BAvTdLFbSCQjsj7Mh9Iz1o0bE1rKH4wnXfDyGOVOXkb6DVWbTwl\n",
       "A59Hk9CTRH3mzLNRyVnnj2oICQZKAZG2wkmk6JWLTIYkjSqyrJGQWdvBWojEN5mXuCkuFCOlIt9e\n",
       "1MzKCpIRWC6nG3/k2Lcl5SLPw9VpKtiMi5Dy+6tO8CX15pjtcRjIFF9FgiI3gBOBs63KDGYyxpTz\n",
       "VZRgBmkIXbYtJB00GkHlb71w6G1/v8ZtT4Q3bGv9pCg6PBEYesB5W+p0iLyH5xjjHn5PHQWFJCKM\n",
       "67joau2oCi9J6gF3qnN8WhwBcjk5INSqmZuqVbl1u/+/nxcyUN+Wfl8uDcU/Ua0yi2iPfr3xquDe\n",
       "S9cSTflC188XKPvhjZVEkZkDuTV8vXOE13oIY4NZC51mn3MjNqQEHrIJLRgzNBmbt+vsEh/w3OaD\n",
       "rQPN8EbIR5BBEUFe69UzZh70UyFNebAMbO8Q/I15KxlKghQrxna6nERhN+5BGEN03YrE+9DK6B1D\n",
       "pse6Yk9tnwC7UP2EkVjGhBjJFpF/ZrpQeZZy5AWyLvwWYQQ/83wWbnaM3UPFYIYyBeBdh+Oa0yp5\n",
       "RW3V3HUGE50qgOsJd5JRf+9yf4HEd7uS6sZOl8P3So6W745eyI5Cfkwrs4yv7DAgy1yQu2JDNdaP\n",
       "vag2QgeLCnjtbKRd3YU3nr4plR0vAYb7B6wZHGLtg4DK+gOP3UzG0vkPHQp6CoUyu1rYDM2Ge+jN\n",
       "YTEPBl1lSMPqejrQWwvjEW/hTVrjd7wp1yAqjWOB6uXEUbHqFoEsLb7tYTEIm5pFcDuwVITUxDq7\n",
       "Zr5rwAwxpnn89F3z5Dgz5NYIB9zn1pZYLdP0tTVwB8t/c9crsA579T7h+8RzI99swVwhF6zthrzQ\n",
       "+yZt9jWTHJXrjd24l5BJKb5ABveFVrSU+2uIaBwuagQanaSvm28hAeZcDpYXz9Px6Cn999g9GMMF\n",
       "3nVXYvpgK7zpweCyEdUTXVuzJS8Jj0PxSyhWoPa2QdqLDElUg3gfS2AhEaZj7uk9jGD5gKQK+Oig\n",
       "coT2jdPF2hgtlyYmEgS5mPpLQlchbv5vWPCqg2mxCVRre15XmGYt6o00QhaHDGIBmPxtzz9lCip+\n",
       "vNGtlah1wgFs2TEWvb7Pbdo+8YGuBkbtgvColDbwtR+6vtLlrCCBhRhoBb64rTUayTH8ICZGnISi\n",
       "stLQvWZZukaptt7ixXf3W0UNg+x80Ki86hv599Ecm6hXtb5swUZU1s2fCXqsXGzk5+fWg3hTeAF7\n",
       "Vi3FVZm/yoAQGuesmPCTCmiT7zo1zV/lPUyHtlWIeeKUpFyAW+5zgOKZrqU1hiZcLyAZOhkNDV/6\n",
       "59bXLw36LRqrrZ4RjQdQeqgd8+60D/N9DG7PxN6+ujxDuRm6dzAFdSi1knBlamBzkHwxoHWWt4vv\n",
       "IUUEqn24SCJfJFPKFRT6fgQrX7Q5PFn2LiIXdJ4LxkvZs4Z2qibrDGbXZqjhpj+vIJlLv7qUn2L1\n",
       "+8z+AA3mB8bucStz6mTktL6AH1DtomHu9KVQD566D+EKayZpth8e2D0NOlyNpJhxwPslsZeVmEGq\n",
       "MkzY0zjPqhV2UpYZyRijaqiwBtdlz8H981825RU1jrRpm6qUtUqz+6e8nNUs6zy0w3WAB8NGS3pP\n",
       "FFVDNFT4JuCjUB/cpjtiBGSTJLsLy8GueBR77L2mUofMVHN32+ZOHyBdAFNNCx6y7H0YbDh7286O\n",
       "Zacu3clha/7XUlIp4aztobF2pbvwkDofglx+k+XWHVbMd5cKjhdl7XO2R2kmwTb/FqVvFmoJXWWk\n",
       "WyaiOjcjSOK9OzyV7bqK9TlHswW1rtEqQFXmWBot2GWKcZOPisRXzKYSBFFRhT786STWtWoLUx1M\n",
       "1Ga/2gCejFKqMg21oqd1nzI9W7u0MGYGcOJb5CsjcmGfV8UV2qWKpHuOkOlvGL/Ii7tAw6D7AbS7\n",
       "Jw9EM3SZ7cpIVJEhyFbinajwv3MyOL7xOhNflW82E/dTvl71Ylrx+HYjQJS22rqOwoblPAEBj5Bt\n",
       "Fk3PoxiyNu/CM7Dvb/H1ai1K9EszbXSEieGVLLzoD1jtv7zbi1IvTqne3NeOMh7LIKvaHNKgx0n1\n",
       "UhemFyN7QSe7flyuL342SZdI7eSK0yHIiP5Qqu9vpWoXCfE7fOYs2a/cTRfHMeN2XadpWhX9B2C7\n",
       "6jnosT7QI6uPBFnl79ZYRJBJho2WcsKnfzp7P8nsux0aa+/PLMa54mhhKu7THyvIKspN9/1TVj2E\n",
       "Mo1PQ2AcRkJIuG6WzuLGWMBPvC3gsuQXmloejJF9q1oUZ2e7rasqVGC2uDOQ0hDEwA45mkF6FV+0\n",
       "nQjXfCJsjcL2qoGQrNg2oSVEmTL4qjMUzhkxFxMmZHxx1Q64lx/XE7Wg0gVasxy8EAcFT+3VkZB0\n",
       "V50pHb2pbVgryAQLVwGKomIRR2KHimT3QjI25aMY/Hu4YW+mzl8C9XnL27XSZd17VmQC243ceVXW\n",
       "lj+v3NvTtIu9GEPaPhuXbgSa3eUIl5Yyo78av/W2WC9f0v9hEqjAn0PaxprFuscR1bpnwPSPQK0d\n",
       "MlY+zpfvo+L0et0uwWv7Q/R5RyVyXfqTc5bjiRnNK+I8jzF6pSDM/4oIOBEcaOPWhobUei1uRZ41\n",
       "JkG+7dVwNUsd70B/BBZ6W3gFi73Jx2QDgNsKgyHlFJfhtTFTUPXgE+PMDfbimeAr/9Ov+SqT0tkS\n",
       "RA9rciDmRCuXZ+4bLEyzoqi+Wh+kr3UuUGqeY4kNW45bhj5l1HlG6SWoo5z9AU4FGDNMeNclxzSB\n",
       "O+L9lWE2hWb387AZQNqajMpElJ33ZzuggMOYTsKXiQq1GR5h1iQsm1IRJNfmNa8vHxwalHo7FWze\n",
       "U4ZY7uep0GRtyFabdYpw4Q1amn84sm1U1rdNDOwrvkow8xEHH8NIAKs5b53Spk59Rw+eqgziS6mS\n",
       "t18gXORbEWToL6uf0xLLp0Qc0VK1UAAAAwIcAAADAABp89UVLy/yrEAE4mlDCjlj9/gUEg4HQvnn\n",
       "l7k4dD3rraSawIuw7KFMt0TG4OXvMxpbKX0Dgq+josajLe3o8pcqjkrYO3BVDM27lATFYfcju22d\n",
       "r7383gM9sXa5aBG4XN6b7dGfo+PgAOth9M4l5e1ksY9NIA1jPUEG/MTgZ0bU1RzmcB5jq61fGh67\n",
       "qdvg4uXZZtpayaTw5wHjsdE2qCC8KHESg484g3mPNz4uXbHJU+luqFxxNe/M2N4QKuNf+Il0b4zj\n",
       "mVfmXWjw0GGX74bkAaNqAt0SoyjJz4W8eU42DgZTUWgMkTty3n+aAAWqEvROIgdq1wF2ivv+H4AC\n",
       "/TYZM0xXuqv60IUOEe47EwU6jr1eDk+3zjRahaacI1Utqcpy4CgTjlawfZ3Us+YOek0BETLO7jgW\n",
       "gYX+GR6bY2cmGWiCkBOW5+Qg1tAp+dPXYAAHBH07O3G+msKrPmDd67i/GgxTOtf45u7fvT47mwX9\n",
       "kYOUfxYkFUb8qZlhzDSmxILBOzRGjq6Y52TibR7QGydYh3OC8ATbUF8z6Ps4GpiQmzu9/ufnAJNt\n",
       "x80mJ/OZDIskJkZnwK9Scuip//OgQjIwUb5vd7iHrR1J0Yy2CgHdo9ifQOau3SUt7rqp3HmZExuq\n",
       "09zUlGc/Tz9rHwbmWE9hH8YDz7p6nWEKh6Jd1uOI/t3xnB1ii2jCoaaakOcjH0n5E5XHxDRMvUrb\n",
       "p3PWkhUluS7tjVcSaYhvHDps7kvL8sS5nQM9bQ8XUI82VWv9woFTO0OeI/H/hiEmV70JaloGfoDh\n",
       "l37tnE8GI7hSPLyJ3Ppet3DcLWVWlSohjtKoqvQobwcCZpmWg0UMre2S15hdDrDo6OLs3gnBs9FK\n",
       "wDAD3+am/I3LRwmtqTaKikjznOfYAI/TwzRBYNJeshqf501LTqJKprwk79ZaOn9msrdoHCyALLdr\n",
       "NBjU1FdGTMlIlg54nGvl4Ljkc3jpfOCqiggFTn8ljAD66zQ8kt1Uq2Nk/7BSTYGvdHeBLRM859Sw\n",
       "3QGV4z5frwPi8a3juzZnpI/QebDi1q7Hl95+RuYVWnvJcadiQy2NUOad1kBzeC+3MXTjeEqpz/bn\n",
       "7a31QMyyABDztLVPgqqGneLLxmmb9B65/kSfVM6aKVU4ELA/4bvOJhvx7WELrlgYSfMEfhW3FGzK\n",
       "bK8XVAGzOlb+nZm2FIB9Ib23rBL/WHTHzmHhn48Hhq8VcsRo3UWCEk7YLMyqdgxXeigG3wxSshzI\n",
       "YGCjDYLL5yMdzcw4WELc4/NqS9GMEeTldJqBbZlcBL7gHleKNVW+F1xNtaTwNg1fZa+aQQsFztlt\n",
       "daJwlrLtPBFqGGUowBfPO6vZNVeaHmCQdeDcfzxlxro13BxmOLwHaT0vZ1scO96HCO1VSS9oAlnw\n",
       "jf7eQAEsEYznByQjcIOJ5KNuKUpTLRg+7u/1dgxl1jcpyoN0+fIwoWpFQbnyjLP4b4uc7dp0MTeI\n",
       "nNdshOZzSLPT55bpq+r+kbd/4sE/CMEvKJDrDTtQNzwE5k+rXFhPyEB557FC4xSt3lJSEokxs8z5\n",
       "WLlMBZP+b5xo4QRqZon0VxyzcWJTONY2GjHJF62LMZ+0Gi2E/aKUDieroa8JUZf1ipU87w14sMFx\n",
       "9VeFGCN5f3wvCMc7iHsEmcFhvUvnqdQfIyyOe5vvwYT6VYsWaOHA2AyXZG3nrb76/CBgG+GKn1x3\n",
       "edJeiPWf8yfEY/2+MhQFOyR6o1puk/8il4TViN7Kxm8g4ZKfDYHZ9ckI06TV4RFlRycPC76rQhnh\n",
       "3h2b4cKB8CfPDE+n4UzFyZgUQcTpDYespIDMKmPSFMZEu73t6oKbiy8zZ4K0Kh1wqe/6spkYoe5t\n",
       "s6XxYN77Efdbjed7v9vgCYBn2Ke1qDM6mgmoqZZ8GfNSZHmGiLhLfcFhGSli+t8O9UDlZgg/piHw\n",
       "A+0ar85Pq8hgFfRNaeSfxMsaBCn19+6n37Cr2JG29T3/96xi8xvYEdrPNjmMnEte6R3X1gYQ9cBj\n",
       "C5laUhyNcSEh2wIKgmNFSR1CImauA3ll0a/K+MSe/kfWQaHjmgAI+Uj9ZxXOZejE6/2+8GDlHWYT\n",
       "C7FuqbfS/lq+yrNB3dVNA01wUiIXF69D2qkqGerIaf7Sy84VeUDevpJt0LzP2ObUr59Fa6c7lsYM\n",
       "cO3U7Lu+n9cm0W8u5cyTfIV5olA70Gy3hLw/8obtXTCZZuxk6WYYsnoewfvCmx/r+D6Rx7eMJrcV\n",
       "oPrlpeCEI2jZTIuFHvisHw1a3TYVGag2ILvaBUhq1Hco62J25PbJGSFJ4O7qEdTWsOlNsEkNAMAe\n",
       "s2Q4qy/Y0H2//N9ZOkRdUIRrIEiWN+WZXAOh/wIWzaT/ASzjt8/fWfCqbpNOhd+jhzEVYVDJhF7X\n",
       "w0Kvr+vw2MbzvyZTQgy3vtCPvIMHRb+rxiQa8IA2KSxmMkMV5A5Io0Nlz3Cp2CBxBd9AAAj+4nYA\n",
       "AAMAAAMAAAMAAAMAAAMAAAMAAAMBpQAAAw9tb292AAAAbG12aGQAAAAAAAAAAAAAAAAAAAPoAAAA\n",
       "KgABAAABAAAAAAAAAAAAAAAAAQAAAAAAAAAAAAAAAAAAAAEAAAAAAAAAAAAAAAAAAEAAAAAAAAAA\n",
       "AAAAAAAAAAAAAAAAAAAAAAAAAAAAAAACAAACOnRyYWsAAABcdGtoZAAAAAMAAAAAAAAAAAAAAAEA\n",
       "AAAAAAAAKgAAAAAAAAAAAAAAAAAAAAAAAQAAAAAAAAAAAAAAAAAAAAEAAAAAAAAAAAAAAAAAAEAA\n",
       "AAAD6AAAAlgAAAAAACRlZHRzAAAAHGVsc3QAAAAAAAAAAQAAACoAAAAAAAEAAAAAAbJtZGlhAAAA\n",
       "IG1kaGQAAAAAAAAAAAAAAAAAADAAAAACAFXEAAAAAAAtaGRscgAAAAAAAAAAdmlkZQAAAAAAAAAA\n",
       "AAAAAFZpZGVvSGFuZGxlcgAAAAFdbWluZgAAABR2bWhkAAAAAQAAAAAAAAAAAAAAJGRpbmYAAAAc\n",
       "ZHJlZgAAAAAAAAABAAAADHVybCAAAAABAAABHXN0YmwAAAC5c3RzZAAAAAAAAAABAAAAqWF2YzEA\n",
       "AAAAAAAAAQAAAAAAAAAAAAAAAAAAAAAD6AJYAEgAAABIAAAAAAAAAAEAAAAAAAAAAAAAAAAAAAAA\n",
       "AAAAAAAAAAAAAAAAAAAAAAAY//8AAAA3YXZjQwFkAB//4QAaZ2QAH6zZQPwTeWWEAAADAAQAAAMA\n",
       "wDxgxlgBAAZo6+PLIsD9+PgAAAAAHHV1aWRraEDyXyRPxbo5pRvPAyPzAAAAAAAAABhzdHRzAAAA\n",
       "AAAAAAEAAAABAAACAAAAABxzdHNjAAAAAAAAAAEAAAABAAAAAQAAAAEAAAAUc3RzegAAAAAAACZr\n",
       "AAAAAQAAABRzdGNvAAAAAAAAAAEAAAAwAAAAYXVkdGEAAABZbWV0YQAAAAAAAAAhaGRscgAAAAAA\n",
       "AAAAbWRpcmFwcGwAAAAAAAAAAAAAAAAsaWxzdAAAACSpdG9vAAAAHGRhdGEAAAABAAAAAExhdmY2\n",
       "MS43LjEwMA==\n",
       "\">\n",
       "  Your browser does not support the video tag.\n",
       "</video>"
      ],
      "text/plain": [
       "<IPython.core.display.HTML object>"
      ]
     },
     "metadata": {},
     "output_type": "display_data"
    }
   ],
   "source": [
    "mitr.vis.show_video_polarized(data_transient_np[:, :, :, :], dop, aolp, top, chirality, save_path='video.mp4', display_method=mitr.vis.DisplayMethod.ShowVideo, show_false_color=True)"
   ]
  },
  {
   "cell_type": "code",
   "execution_count": 9,
   "metadata": {},
   "outputs": [
    {
     "data": {
      "image/png": "[encoded data removed]",
      "text/plain": [
       "<Figure size 640x480 with 1 Axes>"
      ]
     },
     "metadata": {},
     "output_type": "display_data"
    }
   ],
   "source": [
    "import matplotlib.pyplot as plt\n",
    "\n",
    "plt.imshow(aolp.squeeze())\n",
    "plt.show()"
   ]
  },
  {
   "cell_type": "code",
   "execution_count": null,
   "metadata": {},
   "outputs": [],
   "source": []
  }
 ],
 "metadata": {
  "kernelspec": {
   "display_name": "mitransientpol",
   "language": "python",
   "name": "python3"
  },
  "language_info": {
   "codemirror_mode": {
    "name": "ipython",
    "version": 3
   },
   "file_extension": ".py",
   "mimetype": "text/x-python",
   "name": "python",
   "nbconvert_exporter": "python",
   "pygments_lexer": "ipython3",
   "version": "3.11.3"
  },
  "orig_nbformat": 4
 },
 "nbformat": 4,
 "nbformat_minor": 2
}
