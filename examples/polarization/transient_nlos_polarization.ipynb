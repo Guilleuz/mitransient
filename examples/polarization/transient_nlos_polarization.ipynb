{
 "cells": [
  {
   "cell_type": "markdown",
   "metadata": {},
   "source": [
    "# mitransient: Adding polarization simulation to NLOS captures\n",
    "\n",
    "## Overview\n",
    "<div class=\"admonition important alert alert-block alert-success\">\n",
    "\n",
    "🚀 **You will learn how to:**\n",
    "\n",
    "<ul>\n",
    "  <li>\n",
    "  \n",
    "  Modify the NLOS scene from the previous tutorial (see the `transient-nlos` folder) to include polarization</li>\n",
    "  <li>\n",
    "  \n",
    "  Modify elements in the NLOS scene so that they change polarization</li>\n",
    "  <li>\n",
    "  \n",
    "  Visualize the resulting polarization in NLOS scene</li>\n",
    "</ul>\n",
    "\n",
    "</div>\n",
    "\n",
    "<div class=\"admonition important alert alert-block alert-warning\">\n",
    "\n",
    "This tutorial assumes that you've read `transient-nlos/mitsuba3-transient-nlos.ipynb`. Most of the setup code is the same.\n",
    "\n",
    "</div>"
   ]
  },
  {
   "cell_type": "code",
   "execution_count": 1,
   "metadata": {},
   "outputs": [
    {
     "name": "stdout",
     "output_type": "stream",
     "text": [
      "Using mitsuba version: 3.6.4\n",
      "Using mitransient version: 1.2.0\n"
     ]
    }
   ],
   "source": [
    "# If you have compiled Mitsuba 3 yourself, you will need to specify the path\n",
    "# to the compilation folder\n",
    "# import sys\n",
    "# sys.path.insert(0, '<mitsuba-path>/mitsuba3/build/python')\n",
    "import mitsuba as mi\n",
    "# To set a variant, you need to have set it in the mitsuba.conf file\n",
    "# https://mitsuba.readthedocs.io/en/latest/src/key_topics/variants.html\n",
    "mi.set_variant('llvm_ad_mono_polarized')\n",
    "\n",
    "import mitransient as mitr\n",
    "\n",
    "print('Using mitsuba version:', mi.__version__)\n",
    "print('Using mitransient version:', mitr.__version__)"
   ]
  },
  {
   "cell_type": "markdown",
   "metadata": {},
   "source": [
    "### Setup the NLOS scene\n",
    "\n",
    "We set up the scene in a very similar way. We define a gold material that will change the polarization of light on scattering."
   ]
  },
  {
   "cell_type": "code",
   "execution_count": 2,
   "metadata": {},
   "outputs": [],
   "source": [
    "# Load the geometry of the hidden scene\n",
    "gold_bsdf = {\n",
    "    \"type\": \"roughconductor\",\n",
    "    \"distribution\": \"ggx\",\n",
    "    \"material\": \"Au\",\n",
    "    \"alpha_u\": 0.9,\n",
    "    \"alpha_v\": 0.9\n",
    "}"
   ]
  },
  {
   "cell_type": "markdown",
   "metadata": {},
   "source": [
    "We use that gold material for the hidden object (`geometry`) and the relay wall (`relay_wall`):"
   ]
  },
  {
   "cell_type": "code",
   "execution_count": 3,
   "metadata": {},
   "outputs": [],
   "source": [
    "geometry = mi.load_dict(\n",
    "    {\n",
    "        \"type\": \"obj\",\n",
    "        \"filename\": \"./Z.obj\",\n",
    "        \"to_world\": mi.ScalarTransform4f().translate([0.0, 0.0, 1.0]),\n",
    "        \"bsdf\": gold_bsdf,\n",
    "    }\n",
    ")\n",
    "\n",
    "# Load the emitter (laser) of the scene\n",
    "emitter = mi.load_dict(\n",
    "    {\n",
    "        \"type\": \"projector\",\n",
    "        \"irradiance\": 100.0,\n",
    "        \"fov\": 0.2,\n",
    "        \"to_world\": mi.ScalarTransform4f().translate([0.0, 0.0, 0.25]),\n",
    "    }\n",
    ")\n",
    "\n",
    "# Define the transient film which store all the data\n",
    "transient_film = mi.load_dict(\n",
    "    {\n",
    "        \"type\": \"transient_hdr_film\",\n",
    "        \"width\": 64,\n",
    "        \"height\": 64,\n",
    "        \"temporal_bins\": 300,\n",
    "        \"bin_width_opl\": 0.006,\n",
    "        \"start_opl\": 1.85,\n",
    "        \"rfilter\": {\"type\": \"box\"},\n",
    "    }\n",
    ")\n",
    "\n",
    "# Define the sensor of the scene\n",
    "nlos_sensor = mi.load_dict(\n",
    "    {\n",
    "        \"type\": \"nlos_capture_meter\",\n",
    "        \"sampler\": {\"type\": \"independent\", \"sample_count\": 65_536},\n",
    "        \"account_first_and_last_bounces\": False,\n",
    "        # This config sets the nlos_sensor in front of the relay wall, not realistic for\n",
    "        # NLOS setups, but it is easier for polarization visualization\n",
    "        \"sensor_origin\": mi.ScalarPoint3f(0.0, 0.0, 0.25),\n",
    "        \"transient_film\": transient_film,\n",
    "    }\n",
    ")\n",
    "\n",
    "# Load the relay wall. This includes the custom \"nlos_capture_meter\" sensor which allows to setup measure points directly on the shape and importance sample paths going through the relay wall.\n",
    "relay_wall = mi.load_dict(\n",
    "    {\n",
    "        \"type\": \"rectangle\",\n",
    "        \"bsdf\": gold_bsdf,\n",
    "        \"nlos_sensor\": nlos_sensor,\n",
    "    }\n",
    ")\n",
    "\n",
    "# Finally load the integrator\n",
    "integrator = mi.load_dict(\n",
    "    {\n",
    "        \"type\": \"transient_nlos_path\",\n",
    "        \"nlos_laser_sampling\": True,\n",
    "        \"nlos_hidden_geometry_sampling\": True,\n",
    "        \"nlos_hidden_geometry_sampling_do_rroulette\": False,\n",
    "        \"temporal_filter\": \"box\",\n",
    "    }\n",
    ")"
   ]
  },
  {
   "cell_type": "code",
   "execution_count": 4,
   "metadata": {},
   "outputs": [],
   "source": [
    "# Assemble the final scene\n",
    "scene = mi.load_dict({\n",
    "    'type' : 'scene',\n",
    "    'geometry' : geometry,\n",
    "    'emitter' : emitter,\n",
    "    'relay_wall' : relay_wall,\n",
    "    'integrator' : integrator\n",
    "})\n"
   ]
  },
  {
   "cell_type": "code",
   "execution_count": 5,
   "metadata": {},
   "outputs": [],
   "source": [
    "# Now we focus the emitter to irradiate one specific pixel of the \"relay wall\"\n",
    "pixel = mi.Point2f(32, 32)\n",
    "mitr.nlos.focus_emitter_at_relay_wall_pixel(pixel, relay_wall, emitter)"
   ]
  },
  {
   "cell_type": "markdown",
   "metadata": {},
   "source": [
    "### Render the scene in steady and transient domain"
   ]
  },
  {
   "cell_type": "code",
   "execution_count": 6,
   "metadata": {},
   "outputs": [
    {
     "ename": "RuntimeError",
     "evalue": "drjit.custom(<mitsuba.python.util._RenderOp>): error while performing a custom differentiable operation. (see above).",
     "output_type": "error",
     "traceback": [
      "\u001b[0;31m---------------------------------------------------------------------------\u001b[0m",
      "\u001b[0;31mRuntimeError\u001b[0m                              Traceback (most recent call last)",
      "File \u001b[0;32m~/.pyenv/versions/3.11.3/envs/mitsuba3-py3.11/lib/python3.11/site-packages/mitsuba/python/util.py:357\u001b[0m, in \u001b[0;36m_RenderOp.eval\u001b[0;34m(self, scene, sensor, _, params, integrator, seed, spp)\u001b[0m\n\u001b[1;32m    356\u001b[0m \u001b[38;5;28;01mwith\u001b[39;00m dr\u001b[38;5;241m.\u001b[39msuspend_grad():\n\u001b[0;32m--> 357\u001b[0m     \u001b[38;5;28;01mreturn\u001b[39;00m \u001b[38;5;28;43mself\u001b[39;49m\u001b[38;5;241;43m.\u001b[39;49m\u001b[43mintegrator\u001b[49m\u001b[38;5;241;43m.\u001b[39;49m\u001b[43mrender\u001b[49m\u001b[43m(\u001b[49m\n\u001b[1;32m    358\u001b[0m \u001b[43m        \u001b[49m\u001b[43mscene\u001b[49m\u001b[38;5;241;43m=\u001b[39;49m\u001b[38;5;28;43mself\u001b[39;49m\u001b[38;5;241;43m.\u001b[39;49m\u001b[43mscene\u001b[49m\u001b[43m,\u001b[49m\n\u001b[1;32m    359\u001b[0m \u001b[43m        \u001b[49m\u001b[43msensor\u001b[49m\u001b[38;5;241;43m=\u001b[39;49m\u001b[43msensor\u001b[49m\u001b[43m,\u001b[49m\n\u001b[1;32m    360\u001b[0m \u001b[43m        \u001b[49m\u001b[43mseed\u001b[49m\u001b[38;5;241;43m=\u001b[39;49m\u001b[43mseed\u001b[49m\u001b[43m[\u001b[49m\u001b[38;5;241;43m0\u001b[39;49m\u001b[43m]\u001b[49m\u001b[43m,\u001b[49m\n\u001b[1;32m    361\u001b[0m \u001b[43m        \u001b[49m\u001b[43mspp\u001b[49m\u001b[38;5;241;43m=\u001b[39;49m\u001b[43mspp\u001b[49m\u001b[43m[\u001b[49m\u001b[38;5;241;43m0\u001b[39;49m\u001b[43m]\u001b[49m\u001b[43m,\u001b[49m\n\u001b[1;32m    362\u001b[0m \u001b[43m        \u001b[49m\u001b[43mdevelop\u001b[49m\u001b[38;5;241;43m=\u001b[39;49m\u001b[38;5;28;43;01mTrue\u001b[39;49;00m\u001b[43m,\u001b[49m\n\u001b[1;32m    363\u001b[0m \u001b[43m        \u001b[49m\u001b[43mevaluate\u001b[49m\u001b[38;5;241;43m=\u001b[39;49m\u001b[38;5;28;43;01mFalse\u001b[39;49;00m\n\u001b[1;32m    364\u001b[0m \u001b[43m    \u001b[49m\u001b[43m)\u001b[49m\n",
      "File \u001b[0;32m~/.pyenv/versions/3.11.3/envs/mitsuba3-py3.11/lib/python3.11/site-packages/mitransient/integrators/common.py:155\u001b[0m, in \u001b[0;36mTransientADIntegrator.render\u001b[0;34m(self, scene, sensor, seed, spp, develop, evaluate, progress_callback)\u001b[0m\n\u001b[1;32m    154\u001b[0m \u001b[38;5;66;03m# Accumulate into the image block\u001b[39;00m\n\u001b[0;32m--> 155\u001b[0m \u001b[43mADIntegrator\u001b[49m\u001b[38;5;241;43m.\u001b[39;49m\u001b[43m_splat_to_block\u001b[49m\u001b[43m(\u001b[49m\n\u001b[1;32m    156\u001b[0m \u001b[43m    \u001b[49m\u001b[43mblock\u001b[49m\u001b[43m,\u001b[49m\u001b[43m \u001b[49m\u001b[43mfilm\u001b[49m\u001b[43m,\u001b[49m\u001b[43m \u001b[49m\u001b[43mpos\u001b[49m\u001b[43m,\u001b[49m\n\u001b[1;32m    157\u001b[0m \u001b[43m    \u001b[49m\u001b[43mvalue\u001b[49m\u001b[38;5;241;43m=\u001b[39;49m\u001b[43mL\u001b[49m\u001b[43m \u001b[49m\u001b[38;5;241;43m*\u001b[39;49m\u001b[43m \u001b[49m\u001b[43mmi\u001b[49m\u001b[38;5;241;43m.\u001b[39;49m\u001b[43mSpectrum\u001b[49m\u001b[43m(\u001b[49m\u001b[43mweight\u001b[49m\u001b[43m)\u001b[49m\u001b[43m,\u001b[49m\n\u001b[1;32m    158\u001b[0m \u001b[43m    \u001b[49m\u001b[43mweight\u001b[49m\u001b[38;5;241;43m=\u001b[39;49m\u001b[38;5;241;43m1.0\u001b[39;49m\u001b[43m,\u001b[49m\n\u001b[1;32m    159\u001b[0m \u001b[43m    \u001b[49m\u001b[43malpha\u001b[49m\u001b[38;5;241;43m=\u001b[39;49m\u001b[43mdr\u001b[49m\u001b[38;5;241;43m.\u001b[39;49m\u001b[43mselect\u001b[49m\u001b[43m(\u001b[49m\u001b[43mvalid\u001b[49m\u001b[43m,\u001b[49m\u001b[43m \u001b[49m\u001b[43mmi\u001b[49m\u001b[38;5;241;43m.\u001b[39;49m\u001b[43mFloat\u001b[49m\u001b[43m(\u001b[49m\u001b[38;5;241;43m1\u001b[39;49m\u001b[43m)\u001b[49m\u001b[43m,\u001b[49m\u001b[43m \u001b[49m\u001b[43mmi\u001b[49m\u001b[38;5;241;43m.\u001b[39;49m\u001b[43mFloat\u001b[49m\u001b[43m(\u001b[49m\u001b[38;5;241;43m0\u001b[39;49m\u001b[43m)\u001b[49m\u001b[43m)\u001b[49m\u001b[43m,\u001b[49m\n\u001b[1;32m    160\u001b[0m \u001b[43m    \u001b[49m\u001b[43maovs\u001b[49m\u001b[38;5;241;43m=\u001b[39;49m\u001b[43maovs\u001b[49m\u001b[43m,\u001b[49m\n\u001b[1;32m    161\u001b[0m \u001b[43m    \u001b[49m\u001b[43mwavelengths\u001b[49m\u001b[38;5;241;43m=\u001b[39;49m\u001b[43mray\u001b[49m\u001b[38;5;241;43m.\u001b[39;49m\u001b[43mwavelengths\u001b[49m\n\u001b[1;32m    162\u001b[0m \u001b[43m\u001b[49m\u001b[43m)\u001b[49m\n\u001b[1;32m    164\u001b[0m \u001b[38;5;66;03m# Explicitly delete any remaining unused variables\u001b[39;00m\n",
      "File \u001b[0;32m~/.pyenv/versions/3.11.3/envs/mitsuba3-py3.11/lib/python3.11/site-packages/mitsuba/python/ad/integrators/common.py:390\u001b[0m, in \u001b[0;36mADIntegrator._splat_to_block\u001b[0;34m(block, film, pos, value, weight, alpha, aovs, wavelengths)\u001b[0m\n\u001b[1;32m    389\u001b[0m \u001b[38;5;28;01melif\u001b[39;00m mi\u001b[38;5;241m.\u001b[39mis_monochromatic:\n\u001b[0;32m--> 390\u001b[0m     rgb \u001b[38;5;241m=\u001b[39m mi\u001b[38;5;241m.\u001b[39mColor3f(\u001b[43mvalue\u001b[49m\u001b[38;5;241;43m.\u001b[39;49m\u001b[43mx\u001b[49m)\n\u001b[1;32m    391\u001b[0m \u001b[38;5;28;01melse\u001b[39;00m:\n",
      "\u001b[0;31mRuntimeError\u001b[0m: mitsuba.Spectrum does not have a 'x' component.",
      "\nThe above exception was the direct cause of the following exception:\n",
      "\u001b[0;31mRuntimeError\u001b[0m                              Traceback (most recent call last)",
      "Cell \u001b[0;32mIn[6], line 1\u001b[0m\n\u001b[0;32m----> 1\u001b[0m data_steady, data_transient \u001b[38;5;241m=\u001b[39m \u001b[43mmi\u001b[49m\u001b[38;5;241;43m.\u001b[39;49m\u001b[43mrender\u001b[49m\u001b[43m(\u001b[49m\u001b[43mscene\u001b[49m\u001b[43m)\u001b[49m\n",
      "File \u001b[0;32m~/.pyenv/versions/3.11.3/envs/mitsuba3-py3.11/lib/python3.11/site-packages/mitsuba/python/util.py:508\u001b[0m, in \u001b[0;36mrender\u001b[0;34m(scene, params, sensor, integrator, seed, seed_grad, spp, spp_grad)\u001b[0m\n\u001b[1;32m    495\u001b[0m     \u001b[38;5;28;01mreturn\u001b[39;00m integrator\u001b[38;5;241m.\u001b[39mrender(\n\u001b[1;32m    496\u001b[0m             scene\u001b[38;5;241m=\u001b[39mscene,\n\u001b[1;32m    497\u001b[0m             sensor\u001b[38;5;241m=\u001b[39msensor,\n\u001b[0;32m   (...)\u001b[0m\n\u001b[1;32m    501\u001b[0m             evaluate\u001b[38;5;241m=\u001b[39m\u001b[38;5;28;01mFalse\u001b[39;00m\n\u001b[1;32m    502\u001b[0m         )\n\u001b[1;32m    504\u001b[0m \u001b[38;5;66;03m# Both `dict_params` and `params` are passed. The former is necessary\u001b[39;00m\n\u001b[1;32m    505\u001b[0m \u001b[38;5;66;03m# because it allows the custom operation to detect any attached input\u001b[39;00m\n\u001b[1;32m    506\u001b[0m \u001b[38;5;66;03m# arguments. The latter is necessary because it will not be automatically\u001b[39;00m\n\u001b[1;32m    507\u001b[0m \u001b[38;5;66;03m# detached by the custom operation.\u001b[39;00m\n\u001b[0;32m--> 508\u001b[0m \u001b[38;5;28;01mreturn\u001b[39;00m \u001b[43mdr\u001b[49m\u001b[38;5;241;43m.\u001b[39;49m\u001b[43mcustom\u001b[49m\u001b[43m(\u001b[49m\u001b[43m_RenderOp\u001b[49m\u001b[43m,\u001b[49m\u001b[43m \u001b[49m\u001b[43mscene\u001b[49m\u001b[43m,\u001b[49m\u001b[43m \u001b[49m\u001b[43msensor\u001b[49m\u001b[43m,\u001b[49m\u001b[43m \u001b[49m\u001b[43mdict_params\u001b[49m\u001b[43m,\u001b[49m\u001b[43m \u001b[49m\u001b[43mparams\u001b[49m\u001b[43m,\u001b[49m\u001b[43m \u001b[49m\u001b[43mintegrator\u001b[49m\u001b[43m,\u001b[49m\n\u001b[1;32m    509\u001b[0m \u001b[43m                 \u001b[49m\u001b[43m(\u001b[49m\u001b[43mseed\u001b[49m\u001b[43m,\u001b[49m\u001b[43m \u001b[49m\u001b[43mseed_grad\u001b[49m\u001b[43m)\u001b[49m\u001b[43m,\u001b[49m\u001b[43m \u001b[49m\u001b[43m(\u001b[49m\u001b[43mspp\u001b[49m\u001b[43m,\u001b[49m\u001b[43m \u001b[49m\u001b[43mspp_grad\u001b[49m\u001b[43m)\u001b[49m\u001b[43m)\u001b[49m\n",
      "\u001b[0;31mRuntimeError\u001b[0m: drjit.custom(<mitsuba.python.util._RenderOp>): error while performing a custom differentiable operation. (see above)."
     ]
    }
   ],
   "source": [
    "data_steady, data_transient = mi.render(scene)"
   ]
  },
  {
   "cell_type": "markdown",
   "metadata": {},
   "source": [
    "<div class=\"admonition important alert alert-block alert-warning\">\n",
    "Mitsuba 3 and `mitransient` work with Dr.JIT, which has lazy evaluation.\n",
    "That means the actual image/video will not be computed until you use it.\n",
    "As such, this cell should take &lt;1s to execute\n",
    "</div>\n",
    "\n",
    "The result is:\n",
    "1) A steady state image `data_steady` with dimensions (width, height, channels)\n",
    "2) A transient image `data_transient` with dimensions (width, height, time, channels)"
   ]
  },
  {
   "cell_type": "markdown",
   "metadata": {},
   "source": [
    "### Visualize the transient image\n",
    "\n",
    "The important part for NLOS imaging is `data_transient`, which contains the time-resolved indirect illumination. Here we show how to visualize it."
   ]
  },
  {
   "cell_type": "markdown",
   "metadata": {},
   "source": [
    "### Plot radiance at one pixel over time"
   ]
  },
  {
   "cell_type": "code",
   "execution_count": null,
   "metadata": {},
   "outputs": [],
   "source": [
    "import numpy as np\n",
    "import matplotlib.pyplot as plt\n",
    "\n",
    "i, j = 11, 11\n",
    "\n",
    "# There are two main ways of plotting data_transient\n",
    "# The first one is to plot a single pixel's time-resolved response\n",
    "plt.plot(np.array(data_transient)[i, j, :, 0])\n",
    "plt.xlabel('Time index')\n",
    "plt.ylabel(f'Captured radiance at pixel ({i}, {j})')\n",
    "plt.show()"
   ]
  },
  {
   "cell_type": "markdown",
   "metadata": {},
   "source": [
    "## Transient-polarization visualization\n",
    "\n",
    "S1 and S2 share colorbar.\n",
    "\n",
    "The other plots are those proposed by Wilkie and Weidlich [2013], commonly used in polarization research (see Baek et al. [2020] teaser)\n",
    "\n",
    "[Wilkie2013] Alexander Wilkie and Andrea Weidlich. 2010. A standardised polarisation visualisation for images. In Proceedings of the 26th Spring Conference on Computer Graphics (SCCG '10). Association for Computing Machinery, New York, NY, USA, 43–50. https://doi.org/10.1145/1925059.1925070\n",
    "\n",
    "[Baek2020] Seung-Hwan Baek, Tizian Zeltner, Hyun Jin Ku, Inseung Hwang, Xin Tong, Wenzel Jakob, and Min H. Kim. 2020. Image-based acquisition and modeling of polarimetric reflectance. ACM Trans. Graph. 39, 4, Article 139 (August 2020), 14 pages. https://doi.org/10.1145/3386569.3392387\n"
   ]
  },
  {
   "cell_type": "code",
   "execution_count": null,
   "metadata": {},
   "outputs": [],
   "source": [
    "data_transient_np = np.array(data_transient)\n",
    "print(f'{data_transient_np.shape=}')\n",
    "dop = mitr.vis.degree_of_polarization(data_transient_np)\n",
    "dop, aolp, aolp_scaled, top, chirality = mitr.vis.polarization_generate_false_color(data_transient_np)"
   ]
  },
  {
   "cell_type": "code",
   "execution_count": null,
   "metadata": {},
   "outputs": [],
   "source": [
    "mitr.vis.show_video_polarized(data_transient_np[:, :, :, :], dop, aolp, top, chirality, save_path='video.mp4', display_method=mitr.vis.DisplayMethod.ShowVideo, show_false_color=True)"
   ]
  }
 ],
 "metadata": {
  "kernelspec": {
   "display_name": "mitransientpol",
   "language": "python",
   "name": "python3"
  },
  "language_info": {
   "codemirror_mode": {
    "name": "ipython",
    "version": 3
   },
   "file_extension": ".py",
   "mimetype": "text/x-python",
   "name": "python",
   "nbconvert_exporter": "python",
   "pygments_lexer": "ipython3",
   "version": "3.11.3"
  }
 },
 "nbformat": 4,
 "nbformat_minor": 2
}
